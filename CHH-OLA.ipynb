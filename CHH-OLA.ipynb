{
  "nbformat": 4,
  "nbformat_minor": 0,
  "metadata": {
    "kernelspec": {
      "display_name": "Python 3",
      "language": "python",
      "name": "python3"
    },
    "language_info": {
      "codemirror_mode": {
        "name": "ipython",
        "version": 3
      },
      "file_extension": ".py",
      "mimetype": "text/x-python",
      "name": "python",
      "nbconvert_exporter": "python",
      "pygments_lexer": "ipython3",
      "version": "3.7.1"
    },
    "colab": {
      "name": "Data_preprocess_ola-1.ipynb",
      "version": "0.3.2",
      "provenance": [],
      "include_colab_link": true
    }
  },
  "cells": [
    {
      "cell_type": "markdown",
      "metadata": {
        "id": "view-in-github",
        "colab_type": "text"
      },
      "source": [
        "<a href=\"https://colab.research.google.com/github/abhaykatheria/Deep-Learning-colab-notebooks/blob/master/CHH-OLA.ipynb\" target=\"_parent\"><img src=\"https://colab.research.google.com/assets/colab-badge.svg\" alt=\"Open In Colab\"/></a>"
      ]
    },
    {
      "cell_type": "code",
      "metadata": {
        "id": "cCXrhyzmRxk6",
        "colab_type": "code",
        "colab": {}
      },
      "source": [
        "import numpy as np\n",
        "import pandas as pd\n",
        "from sklearn.preprocessing import LabelEncoder"
      ],
      "execution_count": 0,
      "outputs": []
    },
    {
      "cell_type": "code",
      "metadata": {
        "id": "RZ6FN1svV2uf",
        "colab_type": "code",
        "colab": {}
      },
      "source": [
        "!pip install fastai==0.7.0\n",
        "from fastai.imports import*\n",
        "from fastai.structured import *\n",
        "from pandas_summary import DataFrameSummary\n",
        "from sklearn.ensemble import RandomForestRegressor, RandomForestClassifier\n",
        "from IPython.display import display\n",
        "from sklearn import metrics"
      ],
      "execution_count": 0,
      "outputs": []
    },
    {
      "cell_type": "code",
      "metadata": {
        "id": "Q3lvWeJvRxli",
        "colab_type": "code",
        "outputId": "c7378e3f-562c-4428-a23e-2306ee27afbd",
        "colab": {
          "base_uri": "https://localhost:8080/",
          "height": 448
        }
      },
      "source": [
        "!pip install PyDrive"
      ],
      "execution_count": 0,
      "outputs": [
        {
          "output_type": "stream",
          "text": [
            "Collecting PyDrive\n",
            "\u001b[?25l  Downloading https://files.pythonhosted.org/packages/52/e0/0e64788e5dd58ce2d6934549676243dc69d982f198524be9b99e9c2a4fd5/PyDrive-1.3.1.tar.gz (987kB)\n",
            "\u001b[K     |████████████████████████████████| 993kB 2.7MB/s \n",
            "\u001b[?25hRequirement already satisfied: google-api-python-client>=1.2 in /usr/local/lib/python3.6/dist-packages (from PyDrive) (1.7.11)\n",
            "Requirement already satisfied: oauth2client>=4.0.0 in /usr/local/lib/python3.6/dist-packages (from PyDrive) (4.1.3)\n",
            "Requirement already satisfied: PyYAML>=3.0 in /usr/local/lib/python3.6/dist-packages (from PyDrive) (3.13)\n",
            "Requirement already satisfied: google-auth>=1.4.1 in /usr/local/lib/python3.6/dist-packages (from google-api-python-client>=1.2->PyDrive) (1.4.2)\n",
            "Requirement already satisfied: httplib2<1dev,>=0.9.2 in /usr/local/lib/python3.6/dist-packages (from google-api-python-client>=1.2->PyDrive) (0.11.3)\n",
            "Requirement already satisfied: six<2dev,>=1.6.1 in /usr/local/lib/python3.6/dist-packages (from google-api-python-client>=1.2->PyDrive) (1.12.0)\n",
            "Requirement already satisfied: uritemplate<4dev,>=3.0.0 in /usr/local/lib/python3.6/dist-packages (from google-api-python-client>=1.2->PyDrive) (3.0.0)\n",
            "Requirement already satisfied: google-auth-httplib2>=0.0.3 in /usr/local/lib/python3.6/dist-packages (from google-api-python-client>=1.2->PyDrive) (0.0.3)\n",
            "Requirement already satisfied: rsa>=3.1.4 in /usr/local/lib/python3.6/dist-packages (from oauth2client>=4.0.0->PyDrive) (4.0)\n",
            "Requirement already satisfied: pyasn1>=0.1.7 in /usr/local/lib/python3.6/dist-packages (from oauth2client>=4.0.0->PyDrive) (0.4.6)\n",
            "Requirement already satisfied: pyasn1-modules>=0.0.5 in /usr/local/lib/python3.6/dist-packages (from oauth2client>=4.0.0->PyDrive) (0.2.6)\n",
            "Requirement already satisfied: cachetools>=2.0.0 in /usr/local/lib/python3.6/dist-packages (from google-auth>=1.4.1->google-api-python-client>=1.2->PyDrive) (3.1.1)\n",
            "Building wheels for collected packages: PyDrive\n",
            "  Building wheel for PyDrive (setup.py) ... \u001b[?25l\u001b[?25hdone\n",
            "  Created wheel for PyDrive: filename=PyDrive-1.3.1-cp36-none-any.whl size=27437 sha256=20d7c67f8d43bdb930bcd80a3b948628cd04c21c7b7a23dce146a2b238556560\n",
            "  Stored in directory: /root/.cache/pip/wheels/fa/d2/9a/d3b6b506c2da98289e5d417215ce34b696db856643bad779f4\n",
            "Successfully built PyDrive\n",
            "Installing collected packages: PyDrive\n",
            "Successfully installed PyDrive-1.3.1\n"
          ],
          "name": "stdout"
        }
      ]
    },
    {
      "cell_type": "code",
      "metadata": {
        "id": "xSkyqYPWSQjV",
        "colab_type": "code",
        "colab": {}
      },
      "source": [
        "import os\n",
        "from pydrive.auth import GoogleAuth\n",
        "from pydrive.drive import GoogleDrive\n",
        "from google.colab import auth\n",
        "from oauth2client.client import GoogleCredentials"
      ],
      "execution_count": 0,
      "outputs": []
    },
    {
      "cell_type": "code",
      "metadata": {
        "id": "lDBWfzlsSVv9",
        "colab_type": "code",
        "colab": {}
      },
      "source": [
        "auth.authenticate_user()\n",
        "gauth = GoogleAuth()\n",
        "gauth.credentials = GoogleCredentials.get_application_default()\n",
        "drive = GoogleDrive(gauth)"
      ],
      "execution_count": 0,
      "outputs": []
    },
    {
      "cell_type": "code",
      "metadata": {
        "id": "5QQXMlsJOH5J",
        "colab_type": "code",
        "colab": {}
      },
      "source": [
        " \n",
        "download = drive.CreateFile({'id': '1jke6L2f4idME-AQv3nH9faZvT_qw_Q0s'})\n",
        "download.GetContentFile('xtrain.csv')"
      ],
      "execution_count": 0,
      "outputs": []
    },
    {
      "cell_type": "code",
      "metadata": {
        "id": "IF2DmKwtScoU",
        "colab_type": "code",
        "colab": {}
      },
      "source": [
        "download = drive.CreateFile({'id': '1iHnnVM0wkZMU1vFQs9cK_xkJpQCedjbM'})\n",
        "download.GetContentFile('xtest.csv')"
      ],
      "execution_count": 0,
      "outputs": []
    },
    {
      "cell_type": "code",
      "metadata": {
        "id": "zXg3K2iCT1oU",
        "colab_type": "code",
        "colab": {}
      },
      "source": [
        "download = drive.CreateFile({'id': '1ScYIUrAjEhzk3SMsaBFZHF5KHxH_cYVm'})\n",
        "download.GetContentFile('ytrain.csv')"
      ],
      "execution_count": 0,
      "outputs": []
    },
    {
      "cell_type": "code",
      "metadata": {
        "id": "zigk1w5_VapI",
        "colab_type": "code",
        "colab": {}
      },
      "source": [
        "xtrain =pd.read_csv(\"xtrain.csv\")"
      ],
      "execution_count": 0,
      "outputs": []
    },
    {
      "cell_type": "code",
      "metadata": {
        "id": "R6TxaQtN7YEe",
        "colab_type": "code",
        "outputId": "3001ee3e-78ec-4595-dda4-9e6295615f00",
        "colab": {
          "base_uri": "https://localhost:8080/",
          "height": 313
        }
      },
      "source": [
        "xtrain.head()"
      ],
      "execution_count": 0,
      "outputs": [
        {
          "output_type": "execute_result",
          "data": {
            "text/html": [
              "<div>\n",
              "<style scoped>\n",
              "    .dataframe tbody tr th:only-of-type {\n",
              "        vertical-align: middle;\n",
              "    }\n",
              "\n",
              "    .dataframe tbody tr th {\n",
              "        vertical-align: top;\n",
              "    }\n",
              "\n",
              "    .dataframe thead th {\n",
              "        text-align: right;\n",
              "    }\n",
              "</style>\n",
              "<table border=\"1\" class=\"dataframe\">\n",
              "  <thead>\n",
              "    <tr style=\"text-align: right;\">\n",
              "      <th></th>\n",
              "      <th>ID</th>\n",
              "      <th>vendor_id</th>\n",
              "      <th>pickup_loc</th>\n",
              "      <th>drop_loc</th>\n",
              "      <th>driver_tip</th>\n",
              "      <th>mta_tax</th>\n",
              "      <th>distance</th>\n",
              "      <th>pickup_time</th>\n",
              "      <th>drop_time</th>\n",
              "      <th>num_passengers</th>\n",
              "      <th>toll_amount</th>\n",
              "      <th>payment_method</th>\n",
              "      <th>rate_code</th>\n",
              "      <th>stored_flag</th>\n",
              "      <th>extra_charges</th>\n",
              "      <th>improvement_charge</th>\n",
              "      <th>total_amount</th>\n",
              "    </tr>\n",
              "  </thead>\n",
              "  <tbody>\n",
              "    <tr>\n",
              "      <th>0</th>\n",
              "      <td>0</td>\n",
              "      <td>1</td>\n",
              "      <td>170</td>\n",
              "      <td>233</td>\n",
              "      <td>1.83</td>\n",
              "      <td>0.5</td>\n",
              "      <td>0.70</td>\n",
              "      <td>04-04-2017 17:59</td>\n",
              "      <td>04-04-2017 18:05</td>\n",
              "      <td>1</td>\n",
              "      <td>0.0</td>\n",
              "      <td>1</td>\n",
              "      <td>1</td>\n",
              "      <td>N</td>\n",
              "      <td>1.0</td>\n",
              "      <td>0.3</td>\n",
              "      <td>9.13</td>\n",
              "    </tr>\n",
              "    <tr>\n",
              "      <th>1</th>\n",
              "      <td>1</td>\n",
              "      <td>2</td>\n",
              "      <td>151</td>\n",
              "      <td>243</td>\n",
              "      <td>3.56</td>\n",
              "      <td>0.5</td>\n",
              "      <td>4.64</td>\n",
              "      <td>04-03-2017 19:03</td>\n",
              "      <td>04-03-2017 19:20</td>\n",
              "      <td>1</td>\n",
              "      <td>0.0</td>\n",
              "      <td>1</td>\n",
              "      <td>1</td>\n",
              "      <td>N</td>\n",
              "      <td>1.0</td>\n",
              "      <td>0.3</td>\n",
              "      <td>21.36</td>\n",
              "    </tr>\n",
              "    <tr>\n",
              "      <th>2</th>\n",
              "      <td>2</td>\n",
              "      <td>2</td>\n",
              "      <td>68</td>\n",
              "      <td>90</td>\n",
              "      <td>1.50</td>\n",
              "      <td>0.5</td>\n",
              "      <td>1.29</td>\n",
              "      <td>04-03-2017 15:06</td>\n",
              "      <td>04-03-2017 15:12</td>\n",
              "      <td>2</td>\n",
              "      <td>0.0</td>\n",
              "      <td>1</td>\n",
              "      <td>1</td>\n",
              "      <td>N</td>\n",
              "      <td>0.0</td>\n",
              "      <td>0.3</td>\n",
              "      <td>8.80</td>\n",
              "    </tr>\n",
              "    <tr>\n",
              "      <th>3</th>\n",
              "      <td>3</td>\n",
              "      <td>2</td>\n",
              "      <td>142</td>\n",
              "      <td>234</td>\n",
              "      <td>1.50</td>\n",
              "      <td>0.5</td>\n",
              "      <td>2.74</td>\n",
              "      <td>04-04-2017 08:10</td>\n",
              "      <td>04-04-2017 08:27</td>\n",
              "      <td>1</td>\n",
              "      <td>0.0</td>\n",
              "      <td>1</td>\n",
              "      <td>1</td>\n",
              "      <td>N</td>\n",
              "      <td>0.0</td>\n",
              "      <td>0.3</td>\n",
              "      <td>14.80</td>\n",
              "    </tr>\n",
              "    <tr>\n",
              "      <th>4</th>\n",
              "      <td>4</td>\n",
              "      <td>2</td>\n",
              "      <td>238</td>\n",
              "      <td>238</td>\n",
              "      <td>0.00</td>\n",
              "      <td>0.5</td>\n",
              "      <td>0.45</td>\n",
              "      <td>04-05-2017 14:02</td>\n",
              "      <td>04-05-2017 14:05</td>\n",
              "      <td>6</td>\n",
              "      <td>0.0</td>\n",
              "      <td>2</td>\n",
              "      <td>1</td>\n",
              "      <td>N</td>\n",
              "      <td>0.0</td>\n",
              "      <td>0.3</td>\n",
              "      <td>4.80</td>\n",
              "    </tr>\n",
              "  </tbody>\n",
              "</table>\n",
              "</div>"
            ],
            "text/plain": [
              "   ID  vendor_id  pickup_loc  ...  extra_charges  improvement_charge  total_amount\n",
              "0   0          1         170  ...            1.0                 0.3          9.13\n",
              "1   1          2         151  ...            1.0                 0.3         21.36\n",
              "2   2          2          68  ...            0.0                 0.3          8.80\n",
              "3   3          2         142  ...            0.0                 0.3         14.80\n",
              "4   4          2         238  ...            0.0                 0.3          4.80\n",
              "\n",
              "[5 rows x 17 columns]"
            ]
          },
          "metadata": {
            "tags": []
          },
          "execution_count": 15
        }
      ]
    },
    {
      "cell_type": "code",
      "metadata": {
        "id": "P_PMoMD7Wii-",
        "colab_type": "code",
        "colab": {}
      },
      "source": [
        "ytrain = pd.read_csv(\"ytrain.csv\")"
      ],
      "execution_count": 0,
      "outputs": []
    },
    {
      "cell_type": "code",
      "metadata": {
        "id": "qKOKONtmPEBh",
        "colab_type": "code",
        "outputId": "22e8b468-b417-49fb-854f-e7df081115d0",
        "colab": {
          "base_uri": "https://localhost:8080/",
          "height": 206
        }
      },
      "source": [
        "ytrain.head()"
      ],
      "execution_count": 0,
      "outputs": [
        {
          "output_type": "execute_result",
          "data": {
            "text/html": [
              "<div>\n",
              "<style scoped>\n",
              "    .dataframe tbody tr th:only-of-type {\n",
              "        vertical-align: middle;\n",
              "    }\n",
              "\n",
              "    .dataframe tbody tr th {\n",
              "        vertical-align: top;\n",
              "    }\n",
              "\n",
              "    .dataframe thead th {\n",
              "        text-align: right;\n",
              "    }\n",
              "</style>\n",
              "<table border=\"1\" class=\"dataframe\">\n",
              "  <thead>\n",
              "    <tr style=\"text-align: right;\">\n",
              "      <th></th>\n",
              "      <th>Unnamed: 0</th>\n",
              "      <th>0</th>\n",
              "    </tr>\n",
              "  </thead>\n",
              "  <tbody>\n",
              "    <tr>\n",
              "      <th>0</th>\n",
              "      <td>0</td>\n",
              "      <td>9.13</td>\n",
              "    </tr>\n",
              "    <tr>\n",
              "      <th>1</th>\n",
              "      <td>1</td>\n",
              "      <td>21.36</td>\n",
              "    </tr>\n",
              "    <tr>\n",
              "      <th>2</th>\n",
              "      <td>2</td>\n",
              "      <td>8.80</td>\n",
              "    </tr>\n",
              "    <tr>\n",
              "      <th>3</th>\n",
              "      <td>3</td>\n",
              "      <td>14.80</td>\n",
              "    </tr>\n",
              "    <tr>\n",
              "      <th>4</th>\n",
              "      <td>4</td>\n",
              "      <td>4.80</td>\n",
              "    </tr>\n",
              "  </tbody>\n",
              "</table>\n",
              "</div>"
            ],
            "text/plain": [
              "   Unnamed: 0      0\n",
              "0           0   9.13\n",
              "1           1  21.36\n",
              "2           2   8.80\n",
              "3           3  14.80\n",
              "4           4   4.80"
            ]
          },
          "metadata": {
            "tags": []
          },
          "execution_count": 19
        }
      ]
    },
    {
      "cell_type": "code",
      "metadata": {
        "id": "ZGZdfaRMdMIS",
        "colab_type": "code",
        "colab": {}
      },
      "source": [
        "ytrain=ytrain.iloc[:,1:]"
      ],
      "execution_count": 0,
      "outputs": []
    },
    {
      "cell_type": "code",
      "metadata": {
        "id": "mYR1-wEpPLoa",
        "colab_type": "code",
        "outputId": "9041523e-fa1d-4244-818e-724c81cc424d",
        "colab": {
          "base_uri": "https://localhost:8080/",
          "height": 206
        }
      },
      "source": [
        "ytrain.head()"
      ],
      "execution_count": 0,
      "outputs": [
        {
          "output_type": "execute_result",
          "data": {
            "text/html": [
              "<div>\n",
              "<style scoped>\n",
              "    .dataframe tbody tr th:only-of-type {\n",
              "        vertical-align: middle;\n",
              "    }\n",
              "\n",
              "    .dataframe tbody tr th {\n",
              "        vertical-align: top;\n",
              "    }\n",
              "\n",
              "    .dataframe thead th {\n",
              "        text-align: right;\n",
              "    }\n",
              "</style>\n",
              "<table border=\"1\" class=\"dataframe\">\n",
              "  <thead>\n",
              "    <tr style=\"text-align: right;\">\n",
              "      <th></th>\n",
              "      <th>0</th>\n",
              "    </tr>\n",
              "  </thead>\n",
              "  <tbody>\n",
              "    <tr>\n",
              "      <th>0</th>\n",
              "      <td>9.13</td>\n",
              "    </tr>\n",
              "    <tr>\n",
              "      <th>1</th>\n",
              "      <td>21.36</td>\n",
              "    </tr>\n",
              "    <tr>\n",
              "      <th>2</th>\n",
              "      <td>8.80</td>\n",
              "    </tr>\n",
              "    <tr>\n",
              "      <th>3</th>\n",
              "      <td>14.80</td>\n",
              "    </tr>\n",
              "    <tr>\n",
              "      <th>4</th>\n",
              "      <td>4.80</td>\n",
              "    </tr>\n",
              "  </tbody>\n",
              "</table>\n",
              "</div>"
            ],
            "text/plain": [
              "       0\n",
              "0   9.13\n",
              "1  21.36\n",
              "2   8.80\n",
              "3  14.80\n",
              "4   4.80"
            ]
          },
          "metadata": {
            "tags": []
          },
          "execution_count": 21
        }
      ]
    },
    {
      "cell_type": "code",
      "metadata": {
        "id": "8U0wjokXeNYs",
        "colab_type": "code",
        "colab": {}
      },
      "source": [
        "def data_preprocess(df):\n",
        "    pickup = df['pickup_time'].values[np.arange(df.values.shape[0])]\n",
        "    df[\"hour\"] = pd.DataFrame([24-int(date[11:13]) if date[-1:-3]=='PM' else int(date[11:13]) for date in pickup])\n",
        "    df['min'] = pd.DataFrame([int(date[14:16]) for date in pickup])\n",
        "    df['day'] = pd.DataFrame([int(date[0:2]) for date in pickup])\n",
        "    #df['month'] = pd.DataFrame([int(date[3:5]) for date in pickup])\n",
        "    non_useful_features = ['ID','pickup_time','drop_time','stored_flag']\n",
        "    df = df.drop(non_useful_features,axis=1)\n",
        "    return(df)\n",
        "\n",
        "def train_data_creation(df):\n",
        "    df = data_preprocess(df)\n",
        "    Y = df['total_amount'].values\n",
        "    X = df.drop('total_amount',axis=1).values\n",
        "    X = (X-X.mean())/X.std()\n",
        "    t_X = pd.DataFrame(X)\n",
        "    t_X.to_csv(\"X_train.csv\")\n",
        "    t_Y = pd.DataFrame(Y)\n",
        "    t_Y.to_csv(\"Y_train.csv\")\n",
        "    \n",
        "\n",
        "def test_data_creation(df):\n",
        "    df = data_preprocess(df)\n",
        "    X = df.values\n",
        "    X = (X-X.mean())/X.std()\n",
        "    t_X = pd.DataFrame(X)\n",
        "    t_X.to_csv(\"X_testf.csv\")\n",
        "    \n"
      ],
      "execution_count": 0,
      "outputs": []
    },
    {
      "cell_type": "code",
      "metadata": {
        "id": "GCX0QONrd5Zt",
        "colab_type": "code",
        "colab": {}
      },
      "source": [
        "train_data_creation(xtrain)"
      ],
      "execution_count": 0,
      "outputs": []
    },
    {
      "cell_type": "code",
      "metadata": {
        "id": "9YYIQex5g7GR",
        "colab_type": "code",
        "colab": {}
      },
      "source": [
        "X_train = pd.read_csv(\"X_train.csv\")\n",
        "Y_train = pd.read_csv(\"Y_train.csv\")\n"
      ],
      "execution_count": 0,
      "outputs": []
    },
    {
      "cell_type": "code",
      "metadata": {
        "id": "OFAHrm9mVG-G",
        "colab_type": "code",
        "colab": {}
      },
      "source": [
        "X_test = pd.read_csv(\"xtest.csv\")"
      ],
      "execution_count": 0,
      "outputs": []
    },
    {
      "cell_type": "code",
      "metadata": {
        "id": "RW2TwiZtQ3BR",
        "colab_type": "code",
        "outputId": "d3314bb2-8290-40a6-eea0-d68067b8415e",
        "colab": {
          "base_uri": "https://localhost:8080/",
          "height": 243
        }
      },
      "source": [
        "X_train.head()"
      ],
      "execution_count": 0,
      "outputs": [
        {
          "output_type": "execute_result",
          "data": {
            "text/html": [
              "<div>\n",
              "<style scoped>\n",
              "    .dataframe tbody tr th:only-of-type {\n",
              "        vertical-align: middle;\n",
              "    }\n",
              "\n",
              "    .dataframe tbody tr th {\n",
              "        vertical-align: top;\n",
              "    }\n",
              "\n",
              "    .dataframe thead th {\n",
              "        text-align: right;\n",
              "    }\n",
              "</style>\n",
              "<table border=\"1\" class=\"dataframe\">\n",
              "  <thead>\n",
              "    <tr style=\"text-align: right;\">\n",
              "      <th></th>\n",
              "      <th>Unnamed: 0</th>\n",
              "      <th>0</th>\n",
              "      <th>1</th>\n",
              "      <th>2</th>\n",
              "      <th>3</th>\n",
              "      <th>4</th>\n",
              "      <th>5</th>\n",
              "      <th>6</th>\n",
              "      <th>7</th>\n",
              "      <th>8</th>\n",
              "      <th>9</th>\n",
              "      <th>10</th>\n",
              "      <th>11</th>\n",
              "      <th>12</th>\n",
              "      <th>13</th>\n",
              "      <th>14</th>\n",
              "    </tr>\n",
              "  </thead>\n",
              "  <tbody>\n",
              "    <tr>\n",
              "      <th>0</th>\n",
              "      <td>0</td>\n",
              "      <td>-0.411406</td>\n",
              "      <td>2.397509</td>\n",
              "      <td>3.444619</td>\n",
              "      <td>-0.397611</td>\n",
              "      <td>-0.419717</td>\n",
              "      <td>-0.416393</td>\n",
              "      <td>-0.411406</td>\n",
              "      <td>-0.428027</td>\n",
              "      <td>-0.411406</td>\n",
              "      <td>-0.411406</td>\n",
              "      <td>-0.411406</td>\n",
              "      <td>-0.423041</td>\n",
              "      <td>-0.145474</td>\n",
              "      <td>0.552600</td>\n",
              "      <td>-0.361544</td>\n",
              "    </tr>\n",
              "    <tr>\n",
              "      <th>1</th>\n",
              "      <td>1</td>\n",
              "      <td>-0.394786</td>\n",
              "      <td>2.081713</td>\n",
              "      <td>3.610827</td>\n",
              "      <td>-0.368857</td>\n",
              "      <td>-0.419717</td>\n",
              "      <td>-0.350907</td>\n",
              "      <td>-0.411406</td>\n",
              "      <td>-0.428027</td>\n",
              "      <td>-0.411406</td>\n",
              "      <td>-0.411406</td>\n",
              "      <td>-0.411406</td>\n",
              "      <td>-0.423041</td>\n",
              "      <td>-0.112232</td>\n",
              "      <td>-0.378165</td>\n",
              "      <td>-0.361544</td>\n",
              "    </tr>\n",
              "    <tr>\n",
              "      <th>2</th>\n",
              "      <td>2</td>\n",
              "      <td>-0.394786</td>\n",
              "      <td>0.702187</td>\n",
              "      <td>1.067845</td>\n",
              "      <td>-0.403096</td>\n",
              "      <td>-0.419717</td>\n",
              "      <td>-0.406586</td>\n",
              "      <td>-0.394786</td>\n",
              "      <td>-0.428027</td>\n",
              "      <td>-0.411406</td>\n",
              "      <td>-0.411406</td>\n",
              "      <td>-0.428027</td>\n",
              "      <td>-0.423041</td>\n",
              "      <td>-0.178715</td>\n",
              "      <td>-0.328302</td>\n",
              "      <td>-0.361544</td>\n",
              "    </tr>\n",
              "    <tr>\n",
              "      <th>3</th>\n",
              "      <td>3</td>\n",
              "      <td>-0.394786</td>\n",
              "      <td>1.932126</td>\n",
              "      <td>3.461240</td>\n",
              "      <td>-0.403096</td>\n",
              "      <td>-0.419717</td>\n",
              "      <td>-0.382486</td>\n",
              "      <td>-0.411406</td>\n",
              "      <td>-0.428027</td>\n",
              "      <td>-0.411406</td>\n",
              "      <td>-0.411406</td>\n",
              "      <td>-0.428027</td>\n",
              "      <td>-0.423041</td>\n",
              "      <td>-0.295061</td>\n",
              "      <td>-0.261819</td>\n",
              "      <td>-0.361544</td>\n",
              "    </tr>\n",
              "    <tr>\n",
              "      <th>4</th>\n",
              "      <td>4</td>\n",
              "      <td>-0.394786</td>\n",
              "      <td>3.527723</td>\n",
              "      <td>3.527723</td>\n",
              "      <td>-0.428027</td>\n",
              "      <td>-0.419717</td>\n",
              "      <td>-0.420548</td>\n",
              "      <td>-0.328302</td>\n",
              "      <td>-0.428027</td>\n",
              "      <td>-0.394786</td>\n",
              "      <td>-0.411406</td>\n",
              "      <td>-0.428027</td>\n",
              "      <td>-0.423041</td>\n",
              "      <td>-0.195336</td>\n",
              "      <td>-0.394786</td>\n",
              "      <td>-0.361544</td>\n",
              "    </tr>\n",
              "  </tbody>\n",
              "</table>\n",
              "</div>"
            ],
            "text/plain": [
              "   Unnamed: 0         0         1  ...        12        13        14\n",
              "0           0 -0.411406  2.397509  ... -0.145474  0.552600 -0.361544\n",
              "1           1 -0.394786  2.081713  ... -0.112232 -0.378165 -0.361544\n",
              "2           2 -0.394786  0.702187  ... -0.178715 -0.328302 -0.361544\n",
              "3           3 -0.394786  1.932126  ... -0.295061 -0.261819 -0.361544\n",
              "4           4 -0.394786  3.527723  ... -0.195336 -0.394786 -0.361544\n",
              "\n",
              "[5 rows x 16 columns]"
            ]
          },
          "metadata": {
            "tags": []
          },
          "execution_count": 35
        }
      ]
    },
    {
      "cell_type": "code",
      "metadata": {
        "id": "ADN44ehAQ6PP",
        "colab_type": "code",
        "outputId": "481d1037-a7e3-4eba-af83-38bf625f7195",
        "colab": {
          "base_uri": "https://localhost:8080/",
          "height": 206
        }
      },
      "source": [
        "Y_train.head()"
      ],
      "execution_count": 0,
      "outputs": [
        {
          "output_type": "execute_result",
          "data": {
            "text/html": [
              "<div>\n",
              "<style scoped>\n",
              "    .dataframe tbody tr th:only-of-type {\n",
              "        vertical-align: middle;\n",
              "    }\n",
              "\n",
              "    .dataframe tbody tr th {\n",
              "        vertical-align: top;\n",
              "    }\n",
              "\n",
              "    .dataframe thead th {\n",
              "        text-align: right;\n",
              "    }\n",
              "</style>\n",
              "<table border=\"1\" class=\"dataframe\">\n",
              "  <thead>\n",
              "    <tr style=\"text-align: right;\">\n",
              "      <th></th>\n",
              "      <th>Unnamed: 0</th>\n",
              "      <th>0</th>\n",
              "    </tr>\n",
              "  </thead>\n",
              "  <tbody>\n",
              "    <tr>\n",
              "      <th>0</th>\n",
              "      <td>0</td>\n",
              "      <td>9.13</td>\n",
              "    </tr>\n",
              "    <tr>\n",
              "      <th>1</th>\n",
              "      <td>1</td>\n",
              "      <td>21.36</td>\n",
              "    </tr>\n",
              "    <tr>\n",
              "      <th>2</th>\n",
              "      <td>2</td>\n",
              "      <td>8.80</td>\n",
              "    </tr>\n",
              "    <tr>\n",
              "      <th>3</th>\n",
              "      <td>3</td>\n",
              "      <td>14.80</td>\n",
              "    </tr>\n",
              "    <tr>\n",
              "      <th>4</th>\n",
              "      <td>4</td>\n",
              "      <td>4.80</td>\n",
              "    </tr>\n",
              "  </tbody>\n",
              "</table>\n",
              "</div>"
            ],
            "text/plain": [
              "   Unnamed: 0      0\n",
              "0           0   9.13\n",
              "1           1  21.36\n",
              "2           2   8.80\n",
              "3           3  14.80\n",
              "4           4   4.80"
            ]
          },
          "metadata": {
            "tags": []
          },
          "execution_count": 41
        }
      ]
    },
    {
      "cell_type": "code",
      "metadata": {
        "id": "fSOKPlhJQS6I",
        "colab_type": "code",
        "colab": {}
      },
      "source": [
        ""
      ],
      "execution_count": 0,
      "outputs": []
    },
    {
      "cell_type": "code",
      "metadata": {
        "id": "6Xw6OMHfQcM6",
        "colab_type": "code",
        "colab": {}
      },
      "source": [
        "X_test=pd.read_csv(\"xtest.csv\")"
      ],
      "execution_count": 0,
      "outputs": []
    },
    {
      "cell_type": "code",
      "metadata": {
        "id": "hNW17ziWQmUL",
        "colab_type": "code",
        "outputId": "73862ad1-530a-4a10-e33e-32e8bbe23074",
        "colab": {
          "base_uri": "https://localhost:8080/",
          "height": 400
        }
      },
      "source": [
        "X_test.head()"
      ],
      "execution_count": 0,
      "outputs": [
        {
          "output_type": "execute_result",
          "data": {
            "text/html": [
              "<div>\n",
              "<style scoped>\n",
              "    .dataframe tbody tr th:only-of-type {\n",
              "        vertical-align: middle;\n",
              "    }\n",
              "\n",
              "    .dataframe tbody tr th {\n",
              "        vertical-align: top;\n",
              "    }\n",
              "\n",
              "    .dataframe thead th {\n",
              "        text-align: right;\n",
              "    }\n",
              "</style>\n",
              "<table border=\"1\" class=\"dataframe\">\n",
              "  <thead>\n",
              "    <tr style=\"text-align: right;\">\n",
              "      <th></th>\n",
              "      <th>ID</th>\n",
              "      <th>vendor_id</th>\n",
              "      <th>pickup_loc</th>\n",
              "      <th>drop_loc</th>\n",
              "      <th>driver_tip</th>\n",
              "      <th>mta_tax</th>\n",
              "      <th>distance</th>\n",
              "      <th>pickup_time</th>\n",
              "      <th>drop_time</th>\n",
              "      <th>num_passengers</th>\n",
              "      <th>toll_amount</th>\n",
              "      <th>payment_method</th>\n",
              "      <th>rate_code</th>\n",
              "      <th>stored_flag</th>\n",
              "      <th>extra_charges</th>\n",
              "      <th>improvement_charge</th>\n",
              "    </tr>\n",
              "  </thead>\n",
              "  <tbody>\n",
              "    <tr>\n",
              "      <th>0</th>\n",
              "      <td>0</td>\n",
              "      <td>1</td>\n",
              "      <td>68.0</td>\n",
              "      <td>186.0</td>\n",
              "      <td>1.00</td>\n",
              "      <td>0.5</td>\n",
              "      <td>0.70</td>\n",
              "      <td>04/05/2017 05:49:46 AM</td>\n",
              "      <td>04/05/2017 05:54:03 AM</td>\n",
              "      <td>1.0</td>\n",
              "      <td>0.0</td>\n",
              "      <td>1.0</td>\n",
              "      <td>1.0</td>\n",
              "      <td>N</td>\n",
              "      <td>0.5</td>\n",
              "      <td>0.3</td>\n",
              "    </tr>\n",
              "    <tr>\n",
              "      <th>1</th>\n",
              "      <td>1</td>\n",
              "      <td>1</td>\n",
              "      <td>170.0</td>\n",
              "      <td>161.0</td>\n",
              "      <td>2.55</td>\n",
              "      <td>0.5</td>\n",
              "      <td>1.00</td>\n",
              "      <td>04/07/2017 08:57:27 AM</td>\n",
              "      <td>04/07/2017 09:16:00 AM</td>\n",
              "      <td>1.0</td>\n",
              "      <td>0.0</td>\n",
              "      <td>1.0</td>\n",
              "      <td>1.0</td>\n",
              "      <td>N</td>\n",
              "      <td>0.0</td>\n",
              "      <td>0.3</td>\n",
              "    </tr>\n",
              "    <tr>\n",
              "      <th>2</th>\n",
              "      <td>2</td>\n",
              "      <td>2</td>\n",
              "      <td>13.0</td>\n",
              "      <td>246.0</td>\n",
              "      <td>2.96</td>\n",
              "      <td>0.5</td>\n",
              "      <td>3.35</td>\n",
              "      <td>04/06/2017 08:06:41 AM</td>\n",
              "      <td>04/06/2017 08:21:33 AM</td>\n",
              "      <td>2.0</td>\n",
              "      <td>0.0</td>\n",
              "      <td>1.0</td>\n",
              "      <td>1.0</td>\n",
              "      <td>N</td>\n",
              "      <td>0.0</td>\n",
              "      <td>0.3</td>\n",
              "    </tr>\n",
              "    <tr>\n",
              "      <th>3</th>\n",
              "      <td>3</td>\n",
              "      <td>1</td>\n",
              "      <td>170.0</td>\n",
              "      <td>233.0</td>\n",
              "      <td>2.00</td>\n",
              "      <td>0.5</td>\n",
              "      <td>0.80</td>\n",
              "      <td>04/04/2017 08:31:34 AM</td>\n",
              "      <td>04/04/2017 08:37:21 AM</td>\n",
              "      <td>2.0</td>\n",
              "      <td>0.0</td>\n",
              "      <td>1.0</td>\n",
              "      <td>1.0</td>\n",
              "      <td>N</td>\n",
              "      <td>0.0</td>\n",
              "      <td>0.3</td>\n",
              "    </tr>\n",
              "    <tr>\n",
              "      <th>4</th>\n",
              "      <td>4</td>\n",
              "      <td>1</td>\n",
              "      <td>237.0</td>\n",
              "      <td>236.0</td>\n",
              "      <td>1.00</td>\n",
              "      <td>0.5</td>\n",
              "      <td>0.70</td>\n",
              "      <td>04/07/2017 10:54:06 AM</td>\n",
              "      <td>04/07/2017 11:00:59 AM</td>\n",
              "      <td>1.0</td>\n",
              "      <td>0.0</td>\n",
              "      <td>1.0</td>\n",
              "      <td>1.0</td>\n",
              "      <td>Y</td>\n",
              "      <td>0.0</td>\n",
              "      <td>0.3</td>\n",
              "    </tr>\n",
              "  </tbody>\n",
              "</table>\n",
              "</div>"
            ],
            "text/plain": [
              "   ID  vendor_id  pickup_loc  ...  stored_flag  extra_charges  improvement_charge\n",
              "0   0          1        68.0  ...            N            0.5                 0.3\n",
              "1   1          1       170.0  ...            N            0.0                 0.3\n",
              "2   2          2        13.0  ...            N            0.0                 0.3\n",
              "3   3          1       170.0  ...            N            0.0                 0.3\n",
              "4   4          1       237.0  ...            Y            0.0                 0.3\n",
              "\n",
              "[5 rows x 16 columns]"
            ]
          },
          "metadata": {
            "tags": []
          },
          "execution_count": 38
        }
      ]
    },
    {
      "cell_type": "code",
      "metadata": {
        "id": "91CKGAyCQQck",
        "colab_type": "code",
        "colab": {}
      },
      "source": [
        "test_data_creation(X_test)"
      ],
      "execution_count": 0,
      "outputs": []
    },
    {
      "cell_type": "code",
      "metadata": {
        "id": "hwxBMPPKRZmU",
        "colab_type": "code",
        "colab": {}
      },
      "source": [
        "X_test_f = pd.read_csv(\"X_testf.csv\")"
      ],
      "execution_count": 0,
      "outputs": []
    },
    {
      "cell_type": "code",
      "metadata": {
        "id": "s2b3wF22RpAz",
        "colab_type": "code",
        "outputId": "c9981d7f-dd11-4461-de91-8f1e237a4942",
        "colab": {
          "base_uri": "https://localhost:8080/",
          "height": 243
        }
      },
      "source": [
        "X_test_f.head()"
      ],
      "execution_count": 0,
      "outputs": [
        {
          "output_type": "execute_result",
          "data": {
            "text/html": [
              "<div>\n",
              "<style scoped>\n",
              "    .dataframe tbody tr th:only-of-type {\n",
              "        vertical-align: middle;\n",
              "    }\n",
              "\n",
              "    .dataframe tbody tr th {\n",
              "        vertical-align: top;\n",
              "    }\n",
              "\n",
              "    .dataframe thead th {\n",
              "        text-align: right;\n",
              "    }\n",
              "</style>\n",
              "<table border=\"1\" class=\"dataframe\">\n",
              "  <thead>\n",
              "    <tr style=\"text-align: right;\">\n",
              "      <th></th>\n",
              "      <th>Unnamed: 0</th>\n",
              "      <th>0</th>\n",
              "      <th>1</th>\n",
              "      <th>2</th>\n",
              "      <th>3</th>\n",
              "      <th>4</th>\n",
              "      <th>5</th>\n",
              "      <th>6</th>\n",
              "      <th>7</th>\n",
              "      <th>8</th>\n",
              "      <th>9</th>\n",
              "      <th>10</th>\n",
              "      <th>11</th>\n",
              "      <th>12</th>\n",
              "      <th>13</th>\n",
              "      <th>14</th>\n",
              "    </tr>\n",
              "  </thead>\n",
              "  <tbody>\n",
              "    <tr>\n",
              "      <th>0</th>\n",
              "      <td>0</td>\n",
              "      <td>-0.403674</td>\n",
              "      <td>0.708084</td>\n",
              "      <td>2.666106</td>\n",
              "      <td>-0.403674</td>\n",
              "      <td>-0.411971</td>\n",
              "      <td>-0.408652</td>\n",
              "      <td>-0.403674</td>\n",
              "      <td>-0.420268</td>\n",
              "      <td>-0.403674</td>\n",
              "      <td>-0.403674</td>\n",
              "      <td>-0.411971</td>\n",
              "      <td>-0.41529</td>\n",
              "      <td>-0.337301</td>\n",
              "      <td>0.392809</td>\n",
              "      <td>-0.353894</td>\n",
              "    </tr>\n",
              "    <tr>\n",
              "      <th>1</th>\n",
              "      <td>1</td>\n",
              "      <td>-0.403674</td>\n",
              "      <td>2.400611</td>\n",
              "      <td>2.251271</td>\n",
              "      <td>-0.377955</td>\n",
              "      <td>-0.411971</td>\n",
              "      <td>-0.403674</td>\n",
              "      <td>-0.403674</td>\n",
              "      <td>-0.420268</td>\n",
              "      <td>-0.403674</td>\n",
              "      <td>-0.403674</td>\n",
              "      <td>-0.420268</td>\n",
              "      <td>-0.41529</td>\n",
              "      <td>-0.287520</td>\n",
              "      <td>0.525556</td>\n",
              "      <td>-0.353894</td>\n",
              "    </tr>\n",
              "    <tr>\n",
              "      <th>2</th>\n",
              "      <td>2</td>\n",
              "      <td>-0.387081</td>\n",
              "      <td>-0.204553</td>\n",
              "      <td>3.661710</td>\n",
              "      <td>-0.371151</td>\n",
              "      <td>-0.411971</td>\n",
              "      <td>-0.364680</td>\n",
              "      <td>-0.387081</td>\n",
              "      <td>-0.420268</td>\n",
              "      <td>-0.403674</td>\n",
              "      <td>-0.403674</td>\n",
              "      <td>-0.420268</td>\n",
              "      <td>-0.41529</td>\n",
              "      <td>-0.287520</td>\n",
              "      <td>-0.320707</td>\n",
              "      <td>-0.353894</td>\n",
              "    </tr>\n",
              "    <tr>\n",
              "      <th>3</th>\n",
              "      <td>3</td>\n",
              "      <td>-0.403674</td>\n",
              "      <td>2.400611</td>\n",
              "      <td>3.445996</td>\n",
              "      <td>-0.387081</td>\n",
              "      <td>-0.411971</td>\n",
              "      <td>-0.406993</td>\n",
              "      <td>-0.387081</td>\n",
              "      <td>-0.420268</td>\n",
              "      <td>-0.403674</td>\n",
              "      <td>-0.403674</td>\n",
              "      <td>-0.420268</td>\n",
              "      <td>-0.41529</td>\n",
              "      <td>-0.287520</td>\n",
              "      <td>0.094128</td>\n",
              "      <td>-0.353894</td>\n",
              "    </tr>\n",
              "    <tr>\n",
              "      <th>4</th>\n",
              "      <td>4</td>\n",
              "      <td>-0.403674</td>\n",
              "      <td>3.512370</td>\n",
              "      <td>3.495776</td>\n",
              "      <td>-0.403674</td>\n",
              "      <td>-0.411971</td>\n",
              "      <td>-0.408652</td>\n",
              "      <td>-0.403674</td>\n",
              "      <td>-0.420268</td>\n",
              "      <td>-0.403674</td>\n",
              "      <td>-0.403674</td>\n",
              "      <td>-0.420268</td>\n",
              "      <td>-0.41529</td>\n",
              "      <td>-0.254334</td>\n",
              "      <td>0.475776</td>\n",
              "      <td>-0.353894</td>\n",
              "    </tr>\n",
              "  </tbody>\n",
              "</table>\n",
              "</div>"
            ],
            "text/plain": [
              "   Unnamed: 0         0         1  ...        12        13        14\n",
              "0           0 -0.403674  0.708084  ... -0.337301  0.392809 -0.353894\n",
              "1           1 -0.403674  2.400611  ... -0.287520  0.525556 -0.353894\n",
              "2           2 -0.387081 -0.204553  ... -0.287520 -0.320707 -0.353894\n",
              "3           3 -0.403674  2.400611  ... -0.287520  0.094128 -0.353894\n",
              "4           4 -0.403674  3.512370  ... -0.254334  0.475776 -0.353894\n",
              "\n",
              "[5 rows x 16 columns]"
            ]
          },
          "metadata": {
            "tags": []
          },
          "execution_count": 59
        }
      ]
    },
    {
      "cell_type": "code",
      "metadata": {
        "id": "2pQ9UnbOUsrp",
        "colab_type": "code",
        "colab": {}
      },
      "source": [
        "X_test_f = X_test_f.iloc[:,1:]"
      ],
      "execution_count": 0,
      "outputs": []
    },
    {
      "cell_type": "code",
      "metadata": {
        "id": "fF4nSYSpVmkd",
        "colab_type": "code",
        "outputId": "9298ae12-40f9-4f07-89fb-6cf90775975b",
        "colab": {
          "base_uri": "https://localhost:8080/",
          "height": 206
        }
      },
      "source": [
        "X_test_f.head()"
      ],
      "execution_count": 0,
      "outputs": [
        {
          "output_type": "execute_result",
          "data": {
            "text/html": [
              "<div>\n",
              "<style scoped>\n",
              "    .dataframe tbody tr th:only-of-type {\n",
              "        vertical-align: middle;\n",
              "    }\n",
              "\n",
              "    .dataframe tbody tr th {\n",
              "        vertical-align: top;\n",
              "    }\n",
              "\n",
              "    .dataframe thead th {\n",
              "        text-align: right;\n",
              "    }\n",
              "</style>\n",
              "<table border=\"1\" class=\"dataframe\">\n",
              "  <thead>\n",
              "    <tr style=\"text-align: right;\">\n",
              "      <th></th>\n",
              "      <th>0</th>\n",
              "      <th>1</th>\n",
              "      <th>2</th>\n",
              "      <th>3</th>\n",
              "      <th>4</th>\n",
              "      <th>5</th>\n",
              "      <th>6</th>\n",
              "      <th>7</th>\n",
              "      <th>8</th>\n",
              "      <th>9</th>\n",
              "      <th>10</th>\n",
              "      <th>11</th>\n",
              "      <th>12</th>\n",
              "      <th>13</th>\n",
              "      <th>14</th>\n",
              "    </tr>\n",
              "  </thead>\n",
              "  <tbody>\n",
              "    <tr>\n",
              "      <th>0</th>\n",
              "      <td>-0.403674</td>\n",
              "      <td>0.708084</td>\n",
              "      <td>2.666106</td>\n",
              "      <td>-0.403674</td>\n",
              "      <td>-0.411971</td>\n",
              "      <td>-0.408652</td>\n",
              "      <td>-0.403674</td>\n",
              "      <td>-0.420268</td>\n",
              "      <td>-0.403674</td>\n",
              "      <td>-0.403674</td>\n",
              "      <td>-0.411971</td>\n",
              "      <td>-0.41529</td>\n",
              "      <td>-0.337301</td>\n",
              "      <td>0.392809</td>\n",
              "      <td>-0.353894</td>\n",
              "    </tr>\n",
              "    <tr>\n",
              "      <th>1</th>\n",
              "      <td>-0.403674</td>\n",
              "      <td>2.400611</td>\n",
              "      <td>2.251271</td>\n",
              "      <td>-0.377955</td>\n",
              "      <td>-0.411971</td>\n",
              "      <td>-0.403674</td>\n",
              "      <td>-0.403674</td>\n",
              "      <td>-0.420268</td>\n",
              "      <td>-0.403674</td>\n",
              "      <td>-0.403674</td>\n",
              "      <td>-0.420268</td>\n",
              "      <td>-0.41529</td>\n",
              "      <td>-0.287520</td>\n",
              "      <td>0.525556</td>\n",
              "      <td>-0.353894</td>\n",
              "    </tr>\n",
              "    <tr>\n",
              "      <th>2</th>\n",
              "      <td>-0.387081</td>\n",
              "      <td>-0.204553</td>\n",
              "      <td>3.661710</td>\n",
              "      <td>-0.371151</td>\n",
              "      <td>-0.411971</td>\n",
              "      <td>-0.364680</td>\n",
              "      <td>-0.387081</td>\n",
              "      <td>-0.420268</td>\n",
              "      <td>-0.403674</td>\n",
              "      <td>-0.403674</td>\n",
              "      <td>-0.420268</td>\n",
              "      <td>-0.41529</td>\n",
              "      <td>-0.287520</td>\n",
              "      <td>-0.320707</td>\n",
              "      <td>-0.353894</td>\n",
              "    </tr>\n",
              "    <tr>\n",
              "      <th>3</th>\n",
              "      <td>-0.403674</td>\n",
              "      <td>2.400611</td>\n",
              "      <td>3.445996</td>\n",
              "      <td>-0.387081</td>\n",
              "      <td>-0.411971</td>\n",
              "      <td>-0.406993</td>\n",
              "      <td>-0.387081</td>\n",
              "      <td>-0.420268</td>\n",
              "      <td>-0.403674</td>\n",
              "      <td>-0.403674</td>\n",
              "      <td>-0.420268</td>\n",
              "      <td>-0.41529</td>\n",
              "      <td>-0.287520</td>\n",
              "      <td>0.094128</td>\n",
              "      <td>-0.353894</td>\n",
              "    </tr>\n",
              "    <tr>\n",
              "      <th>4</th>\n",
              "      <td>-0.403674</td>\n",
              "      <td>3.512370</td>\n",
              "      <td>3.495776</td>\n",
              "      <td>-0.403674</td>\n",
              "      <td>-0.411971</td>\n",
              "      <td>-0.408652</td>\n",
              "      <td>-0.403674</td>\n",
              "      <td>-0.420268</td>\n",
              "      <td>-0.403674</td>\n",
              "      <td>-0.403674</td>\n",
              "      <td>-0.420268</td>\n",
              "      <td>-0.41529</td>\n",
              "      <td>-0.254334</td>\n",
              "      <td>0.475776</td>\n",
              "      <td>-0.353894</td>\n",
              "    </tr>\n",
              "  </tbody>\n",
              "</table>\n",
              "</div>"
            ],
            "text/plain": [
              "          0         1         2  ...        12        13        14\n",
              "0 -0.403674  0.708084  2.666106  ... -0.337301  0.392809 -0.353894\n",
              "1 -0.403674  2.400611  2.251271  ... -0.287520  0.525556 -0.353894\n",
              "2 -0.387081 -0.204553  3.661710  ... -0.287520 -0.320707 -0.353894\n",
              "3 -0.403674  2.400611  3.445996  ... -0.287520  0.094128 -0.353894\n",
              "4 -0.403674  3.512370  3.495776  ... -0.254334  0.475776 -0.353894\n",
              "\n",
              "[5 rows x 15 columns]"
            ]
          },
          "metadata": {
            "tags": []
          },
          "execution_count": 62
        }
      ]
    },
    {
      "cell_type": "code",
      "metadata": {
        "id": "dhw1MejfRuVD",
        "colab_type": "code",
        "colab": {}
      },
      "source": [
        "X_train = X_train.iloc[:,1:]\n",
        "Y_train = Y_train.iloc[:,1:]\n"
      ],
      "execution_count": 0,
      "outputs": []
    },
    {
      "cell_type": "code",
      "metadata": {
        "id": "cr86pi-CUuxV",
        "colab_type": "code",
        "outputId": "c74f9693-e676-4b7b-93c2-568213b24408",
        "colab": {
          "base_uri": "https://localhost:8080/",
          "height": 206
        }
      },
      "source": [
        "X_train.head()\n"
      ],
      "execution_count": 0,
      "outputs": [
        {
          "output_type": "execute_result",
          "data": {
            "text/html": [
              "<div>\n",
              "<style scoped>\n",
              "    .dataframe tbody tr th:only-of-type {\n",
              "        vertical-align: middle;\n",
              "    }\n",
              "\n",
              "    .dataframe tbody tr th {\n",
              "        vertical-align: top;\n",
              "    }\n",
              "\n",
              "    .dataframe thead th {\n",
              "        text-align: right;\n",
              "    }\n",
              "</style>\n",
              "<table border=\"1\" class=\"dataframe\">\n",
              "  <thead>\n",
              "    <tr style=\"text-align: right;\">\n",
              "      <th></th>\n",
              "      <th>0</th>\n",
              "      <th>1</th>\n",
              "      <th>2</th>\n",
              "      <th>3</th>\n",
              "      <th>4</th>\n",
              "      <th>5</th>\n",
              "      <th>6</th>\n",
              "      <th>7</th>\n",
              "      <th>8</th>\n",
              "      <th>9</th>\n",
              "      <th>10</th>\n",
              "      <th>11</th>\n",
              "      <th>12</th>\n",
              "      <th>13</th>\n",
              "      <th>14</th>\n",
              "    </tr>\n",
              "  </thead>\n",
              "  <tbody>\n",
              "    <tr>\n",
              "      <th>0</th>\n",
              "      <td>-0.411406</td>\n",
              "      <td>2.397509</td>\n",
              "      <td>3.444619</td>\n",
              "      <td>-0.397611</td>\n",
              "      <td>-0.419717</td>\n",
              "      <td>-0.416393</td>\n",
              "      <td>-0.411406</td>\n",
              "      <td>-0.428027</td>\n",
              "      <td>-0.411406</td>\n",
              "      <td>-0.411406</td>\n",
              "      <td>-0.411406</td>\n",
              "      <td>-0.423041</td>\n",
              "      <td>-0.145474</td>\n",
              "      <td>0.552600</td>\n",
              "      <td>-0.361544</td>\n",
              "    </tr>\n",
              "    <tr>\n",
              "      <th>1</th>\n",
              "      <td>-0.394786</td>\n",
              "      <td>2.081713</td>\n",
              "      <td>3.610827</td>\n",
              "      <td>-0.368857</td>\n",
              "      <td>-0.419717</td>\n",
              "      <td>-0.350907</td>\n",
              "      <td>-0.411406</td>\n",
              "      <td>-0.428027</td>\n",
              "      <td>-0.411406</td>\n",
              "      <td>-0.411406</td>\n",
              "      <td>-0.411406</td>\n",
              "      <td>-0.423041</td>\n",
              "      <td>-0.112232</td>\n",
              "      <td>-0.378165</td>\n",
              "      <td>-0.361544</td>\n",
              "    </tr>\n",
              "    <tr>\n",
              "      <th>2</th>\n",
              "      <td>-0.394786</td>\n",
              "      <td>0.702187</td>\n",
              "      <td>1.067845</td>\n",
              "      <td>-0.403096</td>\n",
              "      <td>-0.419717</td>\n",
              "      <td>-0.406586</td>\n",
              "      <td>-0.394786</td>\n",
              "      <td>-0.428027</td>\n",
              "      <td>-0.411406</td>\n",
              "      <td>-0.411406</td>\n",
              "      <td>-0.428027</td>\n",
              "      <td>-0.423041</td>\n",
              "      <td>-0.178715</td>\n",
              "      <td>-0.328302</td>\n",
              "      <td>-0.361544</td>\n",
              "    </tr>\n",
              "    <tr>\n",
              "      <th>3</th>\n",
              "      <td>-0.394786</td>\n",
              "      <td>1.932126</td>\n",
              "      <td>3.461240</td>\n",
              "      <td>-0.403096</td>\n",
              "      <td>-0.419717</td>\n",
              "      <td>-0.382486</td>\n",
              "      <td>-0.411406</td>\n",
              "      <td>-0.428027</td>\n",
              "      <td>-0.411406</td>\n",
              "      <td>-0.411406</td>\n",
              "      <td>-0.428027</td>\n",
              "      <td>-0.423041</td>\n",
              "      <td>-0.295061</td>\n",
              "      <td>-0.261819</td>\n",
              "      <td>-0.361544</td>\n",
              "    </tr>\n",
              "    <tr>\n",
              "      <th>4</th>\n",
              "      <td>-0.394786</td>\n",
              "      <td>3.527723</td>\n",
              "      <td>3.527723</td>\n",
              "      <td>-0.428027</td>\n",
              "      <td>-0.419717</td>\n",
              "      <td>-0.420548</td>\n",
              "      <td>-0.328302</td>\n",
              "      <td>-0.428027</td>\n",
              "      <td>-0.394786</td>\n",
              "      <td>-0.411406</td>\n",
              "      <td>-0.428027</td>\n",
              "      <td>-0.423041</td>\n",
              "      <td>-0.195336</td>\n",
              "      <td>-0.394786</td>\n",
              "      <td>-0.361544</td>\n",
              "    </tr>\n",
              "  </tbody>\n",
              "</table>\n",
              "</div>"
            ],
            "text/plain": [
              "          0         1         2  ...        12        13        14\n",
              "0 -0.411406  2.397509  3.444619  ... -0.145474  0.552600 -0.361544\n",
              "1 -0.394786  2.081713  3.610827  ... -0.112232 -0.378165 -0.361544\n",
              "2 -0.394786  0.702187  1.067845  ... -0.178715 -0.328302 -0.361544\n",
              "3 -0.394786  1.932126  3.461240  ... -0.295061 -0.261819 -0.361544\n",
              "4 -0.394786  3.527723  3.527723  ... -0.195336 -0.394786 -0.361544\n",
              "\n",
              "[5 rows x 15 columns]"
            ]
          },
          "metadata": {
            "tags": []
          },
          "execution_count": 54
        }
      ]
    },
    {
      "cell_type": "code",
      "metadata": {
        "id": "V-aUhcVChnJ2",
        "colab_type": "code",
        "outputId": "bf4124d7-ecef-4a05-b972-28999f3bd33b",
        "colab": {
          "base_uri": "https://localhost:8080/",
          "height": 205
        }
      },
      "source": [
        "m = RandomForestRegressor(n_jobs=-1,n_estimators=64,max_depth=16)\n",
        "m.fit(X_train,Y_train)"
      ],
      "execution_count": 0,
      "outputs": [
        {
          "output_type": "stream",
          "text": [
            "/usr/local/lib/python3.6/dist-packages/ipykernel_launcher.py:2: DataConversionWarning: A column-vector y was passed when a 1d array was expected. Please change the shape of y to (n_samples,), for example using ravel().\n",
            "  \n"
          ],
          "name": "stderr"
        },
        {
          "output_type": "execute_result",
          "data": {
            "text/plain": [
              "RandomForestRegressor(bootstrap=True, criterion='mse', max_depth=16,\n",
              "                      max_features='auto', max_leaf_nodes=None,\n",
              "                      min_impurity_decrease=0.0, min_impurity_split=None,\n",
              "                      min_samples_leaf=1, min_samples_split=2,\n",
              "                      min_weight_fraction_leaf=0.0, n_estimators=64, n_jobs=-1,\n",
              "                      oob_score=False, random_state=None, verbose=0,\n",
              "                      warm_start=False)"
            ]
          },
          "metadata": {
            "tags": []
          },
          "execution_count": 73
        }
      ]
    },
    {
      "cell_type": "code",
      "metadata": {
        "id": "Vx3JbFiULq-Y",
        "colab_type": "code",
        "colab": {}
      },
      "source": [
        "RandomForestRegressor?"
      ],
      "execution_count": 0,
      "outputs": []
    },
    {
      "cell_type": "code",
      "metadata": {
        "id": "htE0_uLLXzjI",
        "colab_type": "code",
        "outputId": "67f0eacb-3ccd-45fd-ed13-dd9bb0e62485",
        "colab": {
          "base_uri": "https://localhost:8080/",
          "height": 36
        }
      },
      "source": [
        "m.score(X_train,Y_train)"
      ],
      "execution_count": 0,
      "outputs": [
        {
          "output_type": "execute_result",
          "data": {
            "text/plain": [
              "0.9783508781642898"
            ]
          },
          "metadata": {
            "tags": []
          },
          "execution_count": 74
        }
      ]
    },
    {
      "cell_type": "code",
      "metadata": {
        "id": "LMLbukR-YC7Z",
        "colab_type": "code",
        "colab": {}
      },
      "source": [
        "from sklearn.metrics import mean_squared_error"
      ],
      "execution_count": 0,
      "outputs": []
    },
    {
      "cell_type": "code",
      "metadata": {
        "id": "qH1J_-KQYV5h",
        "colab_type": "code",
        "colab": {}
      },
      "source": [
        "yp = m.predict(X_train)"
      ],
      "execution_count": 0,
      "outputs": []
    },
    {
      "cell_type": "code",
      "metadata": {
        "id": "4XmR9ixRZqw2",
        "colab_type": "code",
        "outputId": "972ce0a5-2212-4583-b3a7-0caa47676a2d",
        "colab": {
          "base_uri": "https://localhost:8080/",
          "height": 36
        }
      },
      "source": [
        "np.unique(yp)"
      ],
      "execution_count": 0,
      "outputs": [
        {
          "output_type": "execute_result",
          "data": {
            "text/plain": [
              "array([   0.     ,    0.0012 ,    0.01292, ..., 2073.7204 , 2244.18667, 2330.81125])"
            ]
          },
          "metadata": {
            "tags": []
          },
          "execution_count": 77
        }
      ]
    },
    {
      "cell_type": "code",
      "metadata": {
        "id": "0QRwdv0WYbn6",
        "colab_type": "code",
        "colab": {}
      },
      "source": [
        "mse = mean_squared_error(yp,Y_train.values)"
      ],
      "execution_count": 0,
      "outputs": []
    },
    {
      "cell_type": "code",
      "metadata": {
        "id": "qLryppFkYhc-",
        "colab_type": "code",
        "outputId": "113c7137-fa6c-47a2-96eb-0259796782ec",
        "colab": {
          "base_uri": "https://localhost:8080/",
          "height": 36
        }
      },
      "source": [
        "mse"
      ],
      "execution_count": 0,
      "outputs": [
        {
          "output_type": "execute_result",
          "data": {
            "text/plain": [
              "4.921848631419162"
            ]
          },
          "metadata": {
            "tags": []
          },
          "execution_count": 79
        }
      ]
    },
    {
      "cell_type": "code",
      "metadata": {
        "id": "_Cnfi2xYY3Zc",
        "colab_type": "code",
        "colab": {}
      },
      "source": [
        ""
      ],
      "execution_count": 0,
      "outputs": []
    },
    {
      "cell_type": "code",
      "metadata": {
        "id": "w4v0vmGgZA_f",
        "colab_type": "code",
        "colab": {}
      },
      "source": [
        ""
      ],
      "execution_count": 0,
      "outputs": []
    },
    {
      "cell_type": "code",
      "metadata": {
        "id": "WrmM_vyx5XCu",
        "colab_type": "code",
        "colab": {}
      },
      "source": [
        "test_data_creation(xtest)"
      ],
      "execution_count": 0,
      "outputs": []
    },
    {
      "cell_type": "code",
      "metadata": {
        "id": "yXtXE63Rd6tR",
        "colab_type": "code",
        "colab": {}
      },
      "source": [
        "xtest=xtest.iloc[:,1:]"
      ],
      "execution_count": 0,
      "outputs": []
    },
    {
      "cell_type": "code",
      "metadata": {
        "id": "6QIDFW6kd6iQ",
        "colab_type": "code",
        "colab": {}
      },
      "source": [
        "xtest=xtest.values\n",
        "xtest=np.delete(xtest,9,axis=1)\n",
        "xtest = pd.DataFrame(xtest)"
      ],
      "execution_count": 0,
      "outputs": []
    },
    {
      "cell_type": "code",
      "metadata": {
        "id": "f7hW-YxWZSZE",
        "colab_type": "code",
        "colab": {}
      },
      "source": [
        "ypredicted = m.predict(X_test_f)"
      ],
      "execution_count": 0,
      "outputs": []
    },
    {
      "cell_type": "code",
      "metadata": {
        "id": "DMETYXMpaETp",
        "colab_type": "code",
        "outputId": "8ed0259e-02b3-40bc-a309-a69cb03032c1",
        "colab": {
          "base_uri": "https://localhost:8080/",
          "height": 297
        }
      },
      "source": [
        "xtrain.iloc[0,:]"
      ],
      "execution_count": 0,
      "outputs": [
        {
          "output_type": "execute_result",
          "data": {
            "text/plain": [
              "Unnamed: 0    0.000000\n",
              "0            -0.397057\n",
              "1             2.231409\n",
              "2             3.211251\n",
              "3            -0.384147\n",
              "4            -0.401722\n",
              "5            -0.397057\n",
              "6            -0.412610\n",
              "7            -0.397057\n",
              "8            -0.397057\n",
              "9            -0.412610\n",
              "10           -0.397057\n",
              "11           -0.407944\n",
              "12           -0.334844\n",
              "Name: 0, dtype: float64"
            ]
          },
          "metadata": {
            "tags": []
          },
          "execution_count": 42
        }
      ]
    },
    {
      "cell_type": "code",
      "metadata": {
        "id": "ZDWd-6UQZ2_f",
        "colab_type": "code",
        "outputId": "8f97297b-233c-4a3b-9759-89274147f9c3",
        "colab": {
          "base_uri": "https://localhost:8080/",
          "height": 36
        }
      },
      "source": [
        "ypredicted[0]"
      ],
      "execution_count": 0,
      "outputs": [
        {
          "output_type": "execute_result",
          "data": {
            "text/plain": [
              "10.594309409934533"
            ]
          },
          "metadata": {
            "tags": []
          },
          "execution_count": 85
        }
      ]
    },
    {
      "cell_type": "code",
      "metadata": {
        "id": "Wlld1yngZW5B",
        "colab_type": "code",
        "outputId": "64155082-1a85-4b47-bea2-9544e15992ed",
        "colab": {
          "base_uri": "https://localhost:8080/",
          "height": 36
        }
      },
      "source": [
        "np.unique(ypredicted)"
      ],
      "execution_count": 0,
      "outputs": [
        {
          "output_type": "execute_result",
          "data": {
            "text/plain": [
              "array([  5.12652,   5.13354,   5.14067, ..., 266.5775 , 293.76922, 317.34808])"
            ]
          },
          "metadata": {
            "tags": []
          },
          "execution_count": 84
        }
      ]
    },
    {
      "cell_type": "code",
      "metadata": {
        "id": "pe6TiAeDZgtu",
        "colab_type": "code",
        "colab": {}
      },
      "source": [
        "oncemore1= pd.DataFrame(ypredicted)"
      ],
      "execution_count": 0,
      "outputs": []
    },
    {
      "cell_type": "code",
      "metadata": {
        "id": "aJnGpxk6eH-C",
        "colab_type": "code",
        "colab": {}
      },
      "source": [
        "oncemore1.to_csv(\"once_more_again_again_again.csv\")"
      ],
      "execution_count": 0,
      "outputs": []
    },
    {
      "cell_type": "code",
      "metadata": {
        "id": "YlkZOTYcZFbM",
        "colab_type": "code",
        "colab": {}
      },
      "source": [
        "data_preprocess(xtrain)"
      ],
      "execution_count": 0,
      "outputs": []
    },
    {
      "cell_type": "code",
      "metadata": {
        "id": "NaP1l2z_dsRP",
        "colab_type": "code",
        "colab": {}
      },
      "source": [
        "df = pd.read_csv(\"df.csv\")"
      ],
      "execution_count": 0,
      "outputs": []
    },
    {
      "cell_type": "code",
      "metadata": {
        "id": "RX4ec1Zehx-s",
        "colab_type": "code",
        "colab": {}
      },
      "source": [
        "Y_train.info()"
      ],
      "execution_count": 0,
      "outputs": []
    },
    {
      "cell_type": "code",
      "metadata": {
        "id": "05FtKgeMjZdc",
        "colab_type": "code",
        "colab": {}
      },
      "source": [
        "Y_train"
      ],
      "execution_count": 0,
      "outputs": []
    },
    {
      "cell_type": "code",
      "metadata": {
        "id": "fpUrOhAEjd8g",
        "colab_type": "code",
        "colab": {}
      },
      "source": [
        "Y_train = Y_train.iloc[:,-1]\n",
        "X_train = X_train.iloc[:,1:]"
      ],
      "execution_count": 0,
      "outputs": []
    },
    {
      "cell_type": "code",
      "metadata": {
        "id": "Y-chVip4juxU",
        "colab_type": "code",
        "outputId": "c2353116-f7b6-48d0-a636-c0f180dba894",
        "colab": {
          "base_uri": "https://localhost:8080/",
          "height": 36
        }
      },
      "source": [
        "Y_train.shape"
      ],
      "execution_count": 0,
      "outputs": [
        {
          "output_type": "execute_result",
          "data": {
            "text/plain": [
              "(1037198,)"
            ]
          },
          "metadata": {
            "tags": []
          },
          "execution_count": 140
        }
      ]
    },
    {
      "cell_type": "code",
      "metadata": {
        "id": "GK7jQhFkkZs_",
        "colab_type": "code",
        "colab": {}
      },
      "source": [
        "X_test = pd.read_csv(\"xtest.csv\")"
      ],
      "execution_count": 0,
      "outputs": []
    },
    {
      "cell_type": "code",
      "metadata": {
        "id": "ahnsPPxD67xg",
        "colab_type": "code",
        "outputId": "ad28edd3-2ba7-472e-dcd1-624439e7afbf",
        "colab": {
          "base_uri": "https://localhost:8080/",
          "height": 400
        }
      },
      "source": [
        "X_test.head()"
      ],
      "execution_count": 0,
      "outputs": [
        {
          "output_type": "execute_result",
          "data": {
            "text/html": [
              "<div>\n",
              "<style scoped>\n",
              "    .dataframe tbody tr th:only-of-type {\n",
              "        vertical-align: middle;\n",
              "    }\n",
              "\n",
              "    .dataframe tbody tr th {\n",
              "        vertical-align: top;\n",
              "    }\n",
              "\n",
              "    .dataframe thead th {\n",
              "        text-align: right;\n",
              "    }\n",
              "</style>\n",
              "<table border=\"1\" class=\"dataframe\">\n",
              "  <thead>\n",
              "    <tr style=\"text-align: right;\">\n",
              "      <th></th>\n",
              "      <th>ID</th>\n",
              "      <th>vendor_id</th>\n",
              "      <th>pickup_loc</th>\n",
              "      <th>drop_loc</th>\n",
              "      <th>driver_tip</th>\n",
              "      <th>mta_tax</th>\n",
              "      <th>distance</th>\n",
              "      <th>pickup_time</th>\n",
              "      <th>drop_time</th>\n",
              "      <th>num_passengers</th>\n",
              "      <th>toll_amount</th>\n",
              "      <th>payment_method</th>\n",
              "      <th>rate_code</th>\n",
              "      <th>stored_flag</th>\n",
              "      <th>extra_charges</th>\n",
              "      <th>improvement_charge</th>\n",
              "    </tr>\n",
              "  </thead>\n",
              "  <tbody>\n",
              "    <tr>\n",
              "      <th>0</th>\n",
              "      <td>0</td>\n",
              "      <td>1</td>\n",
              "      <td>68.0</td>\n",
              "      <td>186.0</td>\n",
              "      <td>1.00</td>\n",
              "      <td>0.5</td>\n",
              "      <td>0.70</td>\n",
              "      <td>04/05/2017 05:49:46 AM</td>\n",
              "      <td>04/05/2017 05:54:03 AM</td>\n",
              "      <td>1.0</td>\n",
              "      <td>0.0</td>\n",
              "      <td>1.0</td>\n",
              "      <td>1.0</td>\n",
              "      <td>N</td>\n",
              "      <td>0.5</td>\n",
              "      <td>0.3</td>\n",
              "    </tr>\n",
              "    <tr>\n",
              "      <th>1</th>\n",
              "      <td>1</td>\n",
              "      <td>1</td>\n",
              "      <td>170.0</td>\n",
              "      <td>161.0</td>\n",
              "      <td>2.55</td>\n",
              "      <td>0.5</td>\n",
              "      <td>1.00</td>\n",
              "      <td>04/07/2017 08:57:27 AM</td>\n",
              "      <td>04/07/2017 09:16:00 AM</td>\n",
              "      <td>1.0</td>\n",
              "      <td>0.0</td>\n",
              "      <td>1.0</td>\n",
              "      <td>1.0</td>\n",
              "      <td>N</td>\n",
              "      <td>0.0</td>\n",
              "      <td>0.3</td>\n",
              "    </tr>\n",
              "    <tr>\n",
              "      <th>2</th>\n",
              "      <td>2</td>\n",
              "      <td>2</td>\n",
              "      <td>13.0</td>\n",
              "      <td>246.0</td>\n",
              "      <td>2.96</td>\n",
              "      <td>0.5</td>\n",
              "      <td>3.35</td>\n",
              "      <td>04/06/2017 08:06:41 AM</td>\n",
              "      <td>04/06/2017 08:21:33 AM</td>\n",
              "      <td>2.0</td>\n",
              "      <td>0.0</td>\n",
              "      <td>1.0</td>\n",
              "      <td>1.0</td>\n",
              "      <td>N</td>\n",
              "      <td>0.0</td>\n",
              "      <td>0.3</td>\n",
              "    </tr>\n",
              "    <tr>\n",
              "      <th>3</th>\n",
              "      <td>3</td>\n",
              "      <td>1</td>\n",
              "      <td>170.0</td>\n",
              "      <td>233.0</td>\n",
              "      <td>2.00</td>\n",
              "      <td>0.5</td>\n",
              "      <td>0.80</td>\n",
              "      <td>04/04/2017 08:31:34 AM</td>\n",
              "      <td>04/04/2017 08:37:21 AM</td>\n",
              "      <td>2.0</td>\n",
              "      <td>0.0</td>\n",
              "      <td>1.0</td>\n",
              "      <td>1.0</td>\n",
              "      <td>N</td>\n",
              "      <td>0.0</td>\n",
              "      <td>0.3</td>\n",
              "    </tr>\n",
              "    <tr>\n",
              "      <th>4</th>\n",
              "      <td>4</td>\n",
              "      <td>1</td>\n",
              "      <td>237.0</td>\n",
              "      <td>236.0</td>\n",
              "      <td>1.00</td>\n",
              "      <td>0.5</td>\n",
              "      <td>0.70</td>\n",
              "      <td>04/07/2017 10:54:06 AM</td>\n",
              "      <td>04/07/2017 11:00:59 AM</td>\n",
              "      <td>1.0</td>\n",
              "      <td>0.0</td>\n",
              "      <td>1.0</td>\n",
              "      <td>1.0</td>\n",
              "      <td>Y</td>\n",
              "      <td>0.0</td>\n",
              "      <td>0.3</td>\n",
              "    </tr>\n",
              "  </tbody>\n",
              "</table>\n",
              "</div>"
            ],
            "text/plain": [
              "   ID  vendor_id  pickup_loc  ...  stored_flag  extra_charges  improvement_charge\n",
              "0   0          1        68.0  ...            N            0.5                 0.3\n",
              "1   1          1       170.0  ...            N            0.0                 0.3\n",
              "2   2          2        13.0  ...            N            0.0                 0.3\n",
              "3   3          1       170.0  ...            N            0.0                 0.3\n",
              "4   4          1       237.0  ...            Y            0.0                 0.3\n",
              "\n",
              "[5 rows x 16 columns]"
            ]
          },
          "metadata": {
            "tags": []
          },
          "execution_count": 165
        }
      ]
    },
    {
      "cell_type": "code",
      "metadata": {
        "id": "W2FwyVnQxNs4",
        "colab_type": "code",
        "colab": {}
      },
      "source": [
        "X_testf = pd.read_csv(\"X_testf.csv\")"
      ],
      "execution_count": 0,
      "outputs": []
    },
    {
      "cell_type": "code",
      "metadata": {
        "id": "il7B8hVdllWo",
        "colab_type": "code",
        "colab": {}
      },
      "source": [
        "\n",
        "X_testf = X_testf.iloc[:,1:]"
      ],
      "execution_count": 0,
      "outputs": []
    },
    {
      "cell_type": "code",
      "metadata": {
        "id": "XB70hiJrrp3L",
        "colab_type": "code",
        "outputId": "1bb7f06b-e3ed-48a0-d882-0f994c7975a0",
        "colab": {
          "base_uri": "https://localhost:8080/",
          "height": 206
        }
      },
      "source": [
        "X_testf.head()"
      ],
      "execution_count": 0,
      "outputs": [
        {
          "output_type": "execute_result",
          "data": {
            "text/html": [
              "<div>\n",
              "<style scoped>\n",
              "    .dataframe tbody tr th:only-of-type {\n",
              "        vertical-align: middle;\n",
              "    }\n",
              "\n",
              "    .dataframe tbody tr th {\n",
              "        vertical-align: top;\n",
              "    }\n",
              "\n",
              "    .dataframe thead th {\n",
              "        text-align: right;\n",
              "    }\n",
              "</style>\n",
              "<table border=\"1\" class=\"dataframe\">\n",
              "  <thead>\n",
              "    <tr style=\"text-align: right;\">\n",
              "      <th></th>\n",
              "      <th>0</th>\n",
              "      <th>1</th>\n",
              "      <th>2</th>\n",
              "      <th>3</th>\n",
              "      <th>4</th>\n",
              "      <th>5</th>\n",
              "      <th>6</th>\n",
              "      <th>7</th>\n",
              "      <th>8</th>\n",
              "      <th>9</th>\n",
              "      <th>10</th>\n",
              "      <th>11</th>\n",
              "      <th>12</th>\n",
              "      <th>13</th>\n",
              "      <th>14</th>\n",
              "    </tr>\n",
              "  </thead>\n",
              "  <tbody>\n",
              "    <tr>\n",
              "      <th>0</th>\n",
              "      <td>-0.403674</td>\n",
              "      <td>0.708084</td>\n",
              "      <td>2.666106</td>\n",
              "      <td>-0.403674</td>\n",
              "      <td>-0.411971</td>\n",
              "      <td>-0.408652</td>\n",
              "      <td>-0.403674</td>\n",
              "      <td>-0.420268</td>\n",
              "      <td>-0.403674</td>\n",
              "      <td>-0.403674</td>\n",
              "      <td>-0.411971</td>\n",
              "      <td>-0.41529</td>\n",
              "      <td>-0.337301</td>\n",
              "      <td>0.392809</td>\n",
              "      <td>-0.353894</td>\n",
              "    </tr>\n",
              "    <tr>\n",
              "      <th>1</th>\n",
              "      <td>-0.403674</td>\n",
              "      <td>2.400611</td>\n",
              "      <td>2.251271</td>\n",
              "      <td>-0.377955</td>\n",
              "      <td>-0.411971</td>\n",
              "      <td>-0.403674</td>\n",
              "      <td>-0.403674</td>\n",
              "      <td>-0.420268</td>\n",
              "      <td>-0.403674</td>\n",
              "      <td>-0.403674</td>\n",
              "      <td>-0.420268</td>\n",
              "      <td>-0.41529</td>\n",
              "      <td>-0.287520</td>\n",
              "      <td>0.525556</td>\n",
              "      <td>-0.353894</td>\n",
              "    </tr>\n",
              "    <tr>\n",
              "      <th>2</th>\n",
              "      <td>-0.387081</td>\n",
              "      <td>-0.204553</td>\n",
              "      <td>3.661710</td>\n",
              "      <td>-0.371151</td>\n",
              "      <td>-0.411971</td>\n",
              "      <td>-0.364680</td>\n",
              "      <td>-0.387081</td>\n",
              "      <td>-0.420268</td>\n",
              "      <td>-0.403674</td>\n",
              "      <td>-0.403674</td>\n",
              "      <td>-0.420268</td>\n",
              "      <td>-0.41529</td>\n",
              "      <td>-0.287520</td>\n",
              "      <td>-0.320707</td>\n",
              "      <td>-0.353894</td>\n",
              "    </tr>\n",
              "    <tr>\n",
              "      <th>3</th>\n",
              "      <td>-0.403674</td>\n",
              "      <td>2.400611</td>\n",
              "      <td>3.445996</td>\n",
              "      <td>-0.387081</td>\n",
              "      <td>-0.411971</td>\n",
              "      <td>-0.406993</td>\n",
              "      <td>-0.387081</td>\n",
              "      <td>-0.420268</td>\n",
              "      <td>-0.403674</td>\n",
              "      <td>-0.403674</td>\n",
              "      <td>-0.420268</td>\n",
              "      <td>-0.41529</td>\n",
              "      <td>-0.287520</td>\n",
              "      <td>0.094128</td>\n",
              "      <td>-0.353894</td>\n",
              "    </tr>\n",
              "    <tr>\n",
              "      <th>4</th>\n",
              "      <td>-0.403674</td>\n",
              "      <td>3.512370</td>\n",
              "      <td>3.495776</td>\n",
              "      <td>-0.403674</td>\n",
              "      <td>-0.411971</td>\n",
              "      <td>-0.408652</td>\n",
              "      <td>-0.403674</td>\n",
              "      <td>-0.420268</td>\n",
              "      <td>-0.403674</td>\n",
              "      <td>-0.403674</td>\n",
              "      <td>-0.420268</td>\n",
              "      <td>-0.41529</td>\n",
              "      <td>-0.254334</td>\n",
              "      <td>0.475776</td>\n",
              "      <td>-0.353894</td>\n",
              "    </tr>\n",
              "  </tbody>\n",
              "</table>\n",
              "</div>"
            ],
            "text/plain": [
              "          0         1         2  ...        12        13        14\n",
              "0 -0.403674  0.708084  2.666106  ... -0.337301  0.392809 -0.353894\n",
              "1 -0.403674  2.400611  2.251271  ... -0.287520  0.525556 -0.353894\n",
              "2 -0.387081 -0.204553  3.661710  ... -0.287520 -0.320707 -0.353894\n",
              "3 -0.403674  2.400611  3.445996  ... -0.287520  0.094128 -0.353894\n",
              "4 -0.403674  3.512370  3.495776  ... -0.254334  0.475776 -0.353894\n",
              "\n",
              "[5 rows x 15 columns]"
            ]
          },
          "metadata": {
            "tags": []
          },
          "execution_count": 169
        }
      ]
    },
    {
      "cell_type": "code",
      "metadata": {
        "id": "so2pgd--tM-x",
        "colab_type": "code",
        "outputId": "5a6ebe11-a92c-4660-ce96-1149783b4b9f",
        "colab": {
          "base_uri": "https://localhost:8080/",
          "height": 329
        }
      },
      "source": [
        "fuck = m.predict(X_testf)"
      ],
      "execution_count": 0,
      "outputs": [
        {
          "output_type": "error",
          "ename": "ValueError",
          "evalue": "ignored",
          "traceback": [
            "\u001b[0;31m---------------------------------------------------------------------------\u001b[0m",
            "\u001b[0;31mValueError\u001b[0m                                Traceback (most recent call last)",
            "\u001b[0;32m<ipython-input-156-0b7da6d2bc71>\u001b[0m in \u001b[0;36m<module>\u001b[0;34m()\u001b[0m\n\u001b[0;32m----> 1\u001b[0;31m \u001b[0mfuck\u001b[0m \u001b[0;34m=\u001b[0m \u001b[0mm\u001b[0m\u001b[0;34m.\u001b[0m\u001b[0mpredict\u001b[0m\u001b[0;34m(\u001b[0m\u001b[0mX_testf\u001b[0m\u001b[0;34m)\u001b[0m\u001b[0;34m\u001b[0m\u001b[0;34m\u001b[0m\u001b[0m\n\u001b[0m",
            "\u001b[0;32m/usr/local/lib/python3.6/dist-packages/sklearn/ensemble/forest.py\u001b[0m in \u001b[0;36mpredict\u001b[0;34m(self, X)\u001b[0m\n\u001b[1;32m    691\u001b[0m         \u001b[0mcheck_is_fitted\u001b[0m\u001b[0;34m(\u001b[0m\u001b[0mself\u001b[0m\u001b[0;34m,\u001b[0m \u001b[0;34m'estimators_'\u001b[0m\u001b[0;34m)\u001b[0m\u001b[0;34m\u001b[0m\u001b[0;34m\u001b[0m\u001b[0m\n\u001b[1;32m    692\u001b[0m         \u001b[0;31m# Check data\u001b[0m\u001b[0;34m\u001b[0m\u001b[0;34m\u001b[0m\u001b[0;34m\u001b[0m\u001b[0m\n\u001b[0;32m--> 693\u001b[0;31m         \u001b[0mX\u001b[0m \u001b[0;34m=\u001b[0m \u001b[0mself\u001b[0m\u001b[0;34m.\u001b[0m\u001b[0m_validate_X_predict\u001b[0m\u001b[0;34m(\u001b[0m\u001b[0mX\u001b[0m\u001b[0;34m)\u001b[0m\u001b[0;34m\u001b[0m\u001b[0;34m\u001b[0m\u001b[0m\n\u001b[0m\u001b[1;32m    694\u001b[0m \u001b[0;34m\u001b[0m\u001b[0m\n\u001b[1;32m    695\u001b[0m         \u001b[0;31m# Assign chunk of trees to jobs\u001b[0m\u001b[0;34m\u001b[0m\u001b[0;34m\u001b[0m\u001b[0;34m\u001b[0m\u001b[0m\n",
            "\u001b[0;32m/usr/local/lib/python3.6/dist-packages/sklearn/ensemble/forest.py\u001b[0m in \u001b[0;36m_validate_X_predict\u001b[0;34m(self, X)\u001b[0m\n\u001b[1;32m    357\u001b[0m                                  \"call `fit` before exploiting the model.\")\n\u001b[1;32m    358\u001b[0m \u001b[0;34m\u001b[0m\u001b[0m\n\u001b[0;32m--> 359\u001b[0;31m         \u001b[0;32mreturn\u001b[0m \u001b[0mself\u001b[0m\u001b[0;34m.\u001b[0m\u001b[0mestimators_\u001b[0m\u001b[0;34m[\u001b[0m\u001b[0;36m0\u001b[0m\u001b[0;34m]\u001b[0m\u001b[0;34m.\u001b[0m\u001b[0m_validate_X_predict\u001b[0m\u001b[0;34m(\u001b[0m\u001b[0mX\u001b[0m\u001b[0;34m,\u001b[0m \u001b[0mcheck_input\u001b[0m\u001b[0;34m=\u001b[0m\u001b[0;32mTrue\u001b[0m\u001b[0;34m)\u001b[0m\u001b[0;34m\u001b[0m\u001b[0;34m\u001b[0m\u001b[0m\n\u001b[0m\u001b[1;32m    360\u001b[0m \u001b[0;34m\u001b[0m\u001b[0m\n\u001b[1;32m    361\u001b[0m     \u001b[0;34m@\u001b[0m\u001b[0mproperty\u001b[0m\u001b[0;34m\u001b[0m\u001b[0;34m\u001b[0m\u001b[0m\n",
            "\u001b[0;32m/usr/local/lib/python3.6/dist-packages/sklearn/tree/tree.py\u001b[0m in \u001b[0;36m_validate_X_predict\u001b[0;34m(self, X, check_input)\u001b[0m\n\u001b[1;32m    400\u001b[0m                              \u001b[0;34m\"match the input. Model n_features is %s and \"\u001b[0m\u001b[0;34m\u001b[0m\u001b[0;34m\u001b[0m\u001b[0m\n\u001b[1;32m    401\u001b[0m                              \u001b[0;34m\"input n_features is %s \"\u001b[0m\u001b[0;34m\u001b[0m\u001b[0;34m\u001b[0m\u001b[0m\n\u001b[0;32m--> 402\u001b[0;31m                              % (self.n_features_, n_features))\n\u001b[0m\u001b[1;32m    403\u001b[0m \u001b[0;34m\u001b[0m\u001b[0m\n\u001b[1;32m    404\u001b[0m         \u001b[0;32mreturn\u001b[0m \u001b[0mX\u001b[0m\u001b[0;34m\u001b[0m\u001b[0;34m\u001b[0m\u001b[0m\n",
            "\u001b[0;31mValueError\u001b[0m: Number of features of the model must match the input. Model n_features is 10 and input n_features is 14 "
          ]
        }
      ]
    },
    {
      "cell_type": "code",
      "metadata": {
        "id": "KKRJZSpd2nUZ",
        "colab_type": "code",
        "outputId": "626bb2bd-3071-430f-af33-dd4ab26143a3",
        "colab": {
          "base_uri": "https://localhost:8080/",
          "height": 36
        }
      },
      "source": [
        "fuck[2]"
      ],
      "execution_count": 0,
      "outputs": [
        {
          "output_type": "execute_result",
          "data": {
            "text/plain": [
              "26.247000000000003"
            ]
          },
          "metadata": {
            "tags": []
          },
          "execution_count": 132
        }
      ]
    },
    {
      "cell_type": "code",
      "metadata": {
        "id": "aCZAlMpr2ssY",
        "colab_type": "code",
        "outputId": "2584b165-f721-4091-a1db-8ec983825afc",
        "colab": {
          "base_uri": "https://localhost:8080/",
          "height": 36
        }
      },
      "source": [
        "np.unique(fuck)"
      ],
      "execution_count": 0,
      "outputs": [
        {
          "output_type": "execute_result",
          "data": {
            "text/plain": [
              "array([  6.697,   6.731,   6.745, ..., 245.478, 260.884, 269.268])"
            ]
          },
          "metadata": {
            "tags": []
          },
          "execution_count": 133
        }
      ]
    },
    {
      "cell_type": "code",
      "metadata": {
        "id": "FkQqrEIQ25ts",
        "colab_type": "code",
        "colab": {}
      },
      "source": [
        "fuck = pd.DataFrame(fuck)\n",
        "fuck.to_csv(\"fuck.csv\")"
      ],
      "execution_count": 0,
      "outputs": []
    },
    {
      "cell_type": "code",
      "metadata": {
        "id": "jFIZnKuG3PFy",
        "colab_type": "code",
        "colab": {}
      },
      "source": [
        ""
      ],
      "execution_count": 0,
      "outputs": []
    }
  ]
}