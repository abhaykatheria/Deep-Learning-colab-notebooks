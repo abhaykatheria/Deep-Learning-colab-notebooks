{
 "cells": [
  {
   "cell_type": "markdown",
   "metadata": {
    "colab_type": "text",
    "id": "MvErumT0n0_-",
    "slideshow": {
     "slide_type": "slide"
    }
   },
   "source": [
    "# Classification of handwritten digits using MLN\n",
    "## Prof. Laxmidhar Behera\n",
    "### IIT Kanpur"
   ]
  },
  {
   "cell_type": "markdown",
   "metadata": {
    "colab_type": "text",
    "id": "zh0uH8bDn1AE",
    "slideshow": {
     "slide_type": "slide"
    }
   },
   "source": [
    "# MNIST Dataset\n",
    "\n",
    "<img src=\"https://upload.wikimedia.org/wikipedia/commons/2/27/MnistExamples.png\" title=\"MNIST dataset\" align=\"center\"/>\n",
    "\n"
   ]
  },
  {
   "cell_type": "markdown",
   "metadata": {
    "colab_type": "text",
    "id": "1K6Im4RYn1AK",
    "slideshow": {
     "slide_type": "slide"
    }
   },
   "source": [
    "# Problem\n",
    "Classify handwritten digits from 0 - 9. <br>\n",
    "Each image is 28x28 pixels\n",
    "\n",
    "<img src=\"https://corochann.com/wp-content/uploads/2017/02/mnist_plot.png\" title=\"\" align=\"center\"/>\n"
   ]
  },
  {
   "cell_type": "markdown",
   "metadata": {
    "colab_type": "text",
    "id": "EVex4puqn1AO",
    "slideshow": {
     "slide_type": "slide"
    }
   },
   "source": [
    "# Understanding the data"
   ]
  },
  {
   "cell_type": "code",
   "execution_count": 0,
   "metadata": {
    "colab": {},
    "colab_type": "code",
    "id": "alqmfbOIn1AR",
    "slideshow": {
     "slide_type": "fragment"
    }
   },
   "outputs": [],
   "source": [
    "# MNIST data is present in the keras library. You may load it from there\n",
    "import tensorflow as tf\n",
    "from tensorflow.keras.datasets import mnist\n",
    "(train_samples, train_labels), (test_samples, test_labels) = mnist.load_data()\n",
    "# Training samples "
   ]
  },
  {
   "cell_type": "markdown",
   "metadata": {
    "colab_type": "text",
    "id": "3CNRCPbrn1Ae",
    "slideshow": {
     "slide_type": "slide"
    }
   },
   "source": [
    "### Shape of Data"
   ]
  },
  {
   "cell_type": "code",
   "execution_count": 14,
   "metadata": {
    "colab": {
     "base_uri": "https://localhost:8080/",
     "height": 86
    },
    "colab_type": "code",
    "executionInfo": {
     "elapsed": 1441,
     "status": "ok",
     "timestamp": 1560018439997,
     "user": {
      "displayName": "Sai Saurab",
      "photoUrl": "",
      "userId": "06528725485567637895"
     },
     "user_tz": -330
    },
    "id": "_pAn6o3Vn1Ag",
    "outputId": "67ede0da-67aa-41c3-a349-b33b2acb8325",
    "slideshow": {
     "slide_type": "fragment"
    }
   },
   "outputs": [
    {
     "name": "stdout",
     "output_type": "stream",
     "text": [
      "(60000, 28, 28)\n",
      "(60000,)\n",
      "(10000, 28, 28)\n",
      "(10000,)\n"
     ]
    }
   ],
   "source": [
    "print(train_samples.shape)\n",
    "print(train_labels.shape)\n",
    "print(test_samples.shape)\n",
    "print(test_labels.shape)"
   ]
  },
  {
   "cell_type": "markdown",
   "metadata": {
    "colab_type": "text",
    "id": "ubf7aJPIn1Ax",
    "slideshow": {
     "slide_type": "slide"
    }
   },
   "source": [
    "### Range of Values"
   ]
  },
  {
   "cell_type": "code",
   "execution_count": 15,
   "metadata": {
    "colab": {
     "base_uri": "https://localhost:8080/",
     "height": 34
    },
    "colab_type": "code",
    "executionInfo": {
     "elapsed": 1421,
     "status": "ok",
     "timestamp": 1560018440002,
     "user": {
      "displayName": "Sai Saurab",
      "photoUrl": "",
      "userId": "06528725485567637895"
     },
     "user_tz": -330
    },
    "id": "-jiF1J8Jn1A0",
    "outputId": "6c9922e2-1c81-44f0-ec1a-24382d102e67",
    "slideshow": {
     "slide_type": "fragment"
    }
   },
   "outputs": [
    {
     "data": {
      "text/plain": [
       "255"
      ]
     },
     "execution_count": 15,
     "metadata": {
      "tags": []
     },
     "output_type": "execute_result"
    }
   ],
   "source": [
    "import numpy as np\n",
    "np.amax(train_samples) # Max value"
   ]
  },
  {
   "cell_type": "code",
   "execution_count": 16,
   "metadata": {
    "colab": {
     "base_uri": "https://localhost:8080/",
     "height": 34
    },
    "colab_type": "code",
    "executionInfo": {
     "elapsed": 1403,
     "status": "ok",
     "timestamp": 1560018440007,
     "user": {
      "displayName": "Sai Saurab",
      "photoUrl": "",
      "userId": "06528725485567637895"
     },
     "user_tz": -330
    },
    "id": "Mu18byDmn1A-",
    "outputId": "3a25427a-034b-4374-caea-fab5548e0b3e",
    "slideshow": {
     "slide_type": "fragment"
    }
   },
   "outputs": [
    {
     "data": {
      "text/plain": [
       "0"
      ]
     },
     "execution_count": 16,
     "metadata": {
      "tags": []
     },
     "output_type": "execute_result"
    }
   ],
   "source": [
    "np.amin(train_samples) # Min Value"
   ]
  },
  {
   "cell_type": "code",
   "execution_count": 17,
   "metadata": {
    "colab": {
     "base_uri": "https://localhost:8080/",
     "height": 286
    },
    "colab_type": "code",
    "executionInfo": {
     "elapsed": 1796,
     "status": "ok",
     "timestamp": 1560018440421,
     "user": {
      "displayName": "Sai Saurab",
      "photoUrl": "",
      "userId": "06528725485567637895"
     },
     "user_tz": -330
    },
    "id": "_OkrzUFQn1BI",
    "outputId": "74b17269-e798-439f-c9ac-e2c2e48ccb0d",
    "slideshow": {
     "slide_type": "slide"
    }
   },
   "outputs": [
    {
     "data": {
      "image/png": "[encoded data removed]",
      "text/plain": [
       "<Figure size 432x288 with 1 Axes>"
      ]
     },
     "metadata": {
      "tags": []
     },
     "output_type": "display_data"
    },
    {
     "name": "stdout",
     "output_type": "stream",
     "text": [
      "Label of image is 5\n"
     ]
    }
   ],
   "source": [
    "%matplotlib inline\n",
    "import matplotlib.pyplot as plt\n",
    "\n",
    "pixels = train_samples[0] # Shape (28, 28)\n",
    "plt.imshow(pixels, cmap='gray')\n",
    "plt.show()\n",
    "print('Label of image is', train_labels[0])"
   ]
  },
  {
   "cell_type": "markdown",
   "metadata": {
    "colab_type": "text",
    "id": "N6JiZgztn1BP",
    "slideshow": {
     "slide_type": "slide"
    }
   },
   "source": [
    "# Data Preparation"
   ]
  },
  {
   "cell_type": "markdown",
   "metadata": {
    "colab_type": "text",
    "id": "7hUHie4_n1BQ",
    "slideshow": {
     "slide_type": "fragment"
    }
   },
   "source": [
    "### Normalize inputs to (0, 1)"
   ]
  },
  {
   "cell_type": "code",
   "execution_count": 0,
   "metadata": {
    "colab": {},
    "colab_type": "code",
    "id": "iGKZASBBn1BS",
    "slideshow": {
     "slide_type": "fragment"
    }
   },
   "outputs": [],
   "source": [
    "# Convert data type from uint8 to float32\n",
    "train_samples = train_samples.astype('float32')\n",
    "test_samples = test_samples.astype('float32')"
   ]
  },
  {
   "cell_type": "code",
   "execution_count": 19,
   "metadata": {
    "colab": {
     "base_uri": "https://localhost:8080/",
     "height": 34
    },
    "colab_type": "code",
    "executionInfo": {
     "elapsed": 1768,
     "status": "ok",
     "timestamp": 1560018440434,
     "user": {
      "displayName": "Sai Saurab",
      "photoUrl": "",
      "userId": "06528725485567637895"
     },
     "user_tz": -330
    },
    "id": "gbaIejYPn1BX",
    "outputId": "115a897a-5d7c-41bc-b2c4-7fc312fe9a05",
    "slideshow": {
     "slide_type": "fragment"
    }
   },
   "outputs": [
    {
     "data": {
      "text/plain": [
       "1.0"
      ]
     },
     "execution_count": 19,
     "metadata": {
      "tags": []
     },
     "output_type": "execute_result"
    }
   ],
   "source": [
    "# Normalize inputs to (0,1)\n",
    "train_samples = train_samples/255.\n",
    "test_samples = test_samples/255.\n",
    "np.amax(train_samples) # max value has become 1.0"
   ]
  },
  {
   "cell_type": "code",
   "execution_count": 0,
   "metadata": {
    "colab": {},
    "colab_type": "code",
    "id": "0klvh6HMn1Be"
   },
   "outputs": [],
   "source": [
    "## Reshape input to be a column vector\n",
    "train_samples = train_samples.reshape(train_samples.shape[0], 28*28)\n",
    "test_samples = test_samples.reshape(test_samples.shape[0], 28*28)"
   ]
  },
  {
   "cell_type": "markdown",
   "metadata": {
    "colab_type": "text",
    "id": "jzvfaeh9n1Bj",
    "slideshow": {
     "slide_type": "slide"
    }
   },
   "source": [
    "### Convert outputs to 1-hot vectors\n",
    "\\begin{equation*}\n",
    "Eg: 5 \\rightarrow [0, 0, 0, 0, 0, 1, 0, 0, 0, 0]\n",
    "\\end{equation*}"
   ]
  },
  {
   "cell_type": "code",
   "execution_count": 21,
   "metadata": {
    "colab": {
     "base_uri": "https://localhost:8080/",
     "height": 34
    },
    "colab_type": "code",
    "executionInfo": {
     "elapsed": 1738,
     "status": "ok",
     "timestamp": 1560018440444,
     "user": {
      "displayName": "Sai Saurab",
      "photoUrl": "",
      "userId": "06528725485567637895"
     },
     "user_tz": -330
    },
    "id": "kCxrh0-nn1Bl",
    "outputId": "bf195aff-96ce-47c1-8c74-ee1962faa0de",
    "slideshow": {
     "slide_type": "fragment"
    }
   },
   "outputs": [
    {
     "data": {
      "text/plain": [
       "array([0., 0., 0., 0., 0., 1., 0., 0., 0., 0.], dtype=float32)"
      ]
     },
     "execution_count": 21,
     "metadata": {
      "tags": []
     },
     "output_type": "execute_result"
    }
   ],
   "source": [
    "# keras has a utility function for this\n",
    "from tensorflow.keras.utils import to_categorical\n",
    "train_labels = to_categorical(train_labels)\n",
    "test_labels = to_categorical(test_labels)\n",
    "# example\n",
    "train_labels[0] # label = 5"
   ]
  },
  {
   "cell_type": "markdown",
   "metadata": {
    "colab_type": "text",
    "id": "2_Pt8JB8n1Bq",
    "slideshow": {
     "slide_type": "slide"
    }
   },
   "source": [
    "# Network Architecture\n",
    "\n",
    "<img src=\"https://drive.google.com/uc?id=1m2jgscTgKlvtzj757I9YMJE2sqNXmMMy\" title=\"\" align=\"center\" width=\"50%\" height=\"50%\"/>"
   ]
  },
  {
   "cell_type": "markdown",
   "metadata": {
    "colab_type": "text",
    "id": "aceZEJRzn1Bs",
    "slideshow": {
     "slide_type": "slide"
    }
   },
   "source": [
    "### Softmax Activation Function\n",
    "In the Dense (Fully Connected) layer, we use a softmax activation function\n",
    "\\begin{align}\n",
    "\\sigma(x_j) = \\frac{e^{x_j}}{\\sum_{i}e^{x_i}}\n",
    "\\end{align}\n",
    "\n",
    " The softmax function is a function that takes as input a vector of K real numbers, and normalizes it into a probability distribution consisting of K probabilities"
   ]
  },
  {
   "cell_type": "code",
   "execution_count": 0,
   "metadata": {
    "colab": {},
    "colab_type": "code",
    "id": "amqRJpZun1Bt",
    "slideshow": {
     "slide_type": "slide"
    }
   },
   "outputs": [],
   "source": [
    "# Layer definitions\n",
    "from tensorflow.keras.layers import Input, Dense\n",
    "\n",
    "input_layer = Input(shape = train_samples.shape[1:])\n",
    "hidden_layer = Dense(512, activation = 'sigmoid',)(input_layer)\n",
    "output_layer = Dense(10, activation = 'softmax')(hidden_layer)\n",
    "\n"
   ]
  },
  {
   "cell_type": "markdown",
   "metadata": {
    "colab_type": "text",
    "id": "VBVFR5ran1By",
    "slideshow": {
     "slide_type": "slide"
    }
   },
   "source": [
    "Loss is Categorical Crossentropy\n",
    "\n",
    "\\begin{align}\n",
    "L(t,p) = -\\sum_{x}t(x)log(p(x))\n",
    "\\end{align}\n",
    "\n",
    "where  𝑥  ranges over the elements of the output vector\n",
    "\n",
    "\\begin{align}\n",
    "t \\rightarrow \\text{true probability distribution} \\\\\n",
    "p \\rightarrow \\text{predicted probability distribution}\n",
    "\\end{align}\n",
    "In our case, $t$ is always a delta function. \n",
    "For eg., for label = 5,<br>\n",
    "$t(x) = 1$ if $x = 5$ and 0 otherwise"
   ]
  },
  {
   "cell_type": "markdown",
   "metadata": {
    "colab_type": "text",
    "id": "PiZKWdx5n1B0",
    "slideshow": {
     "slide_type": "fragment"
    }
   },
   "source": [
    "Weight update Rule\n",
    "\n",
    "\\begin{align}\n",
    "W' \\leftarrow W - \\eta\\frac{\\partial L}{\\partial W}\n",
    "\\end{align}"
   ]
  },
  {
   "cell_type": "code",
   "execution_count": 28,
   "metadata": {
    "colab": {
     "base_uri": "https://localhost:8080/",
     "height": 243
    },
    "colab_type": "code",
    "executionInfo": {
     "elapsed": 729,
     "status": "ok",
     "timestamp": 1560019373291,
     "user": {
      "displayName": "Sai Saurab",
      "photoUrl": "",
      "userId": "06528725485567637895"
     },
     "user_tz": -330
    },
    "id": "iN6BITwtn1B1",
    "outputId": "4a9f5e5d-e6b2-4b05-b250-3dfb71e09e56",
    "scrolled": true,
    "slideshow": {
     "slide_type": "slide"
    }
   },
   "outputs": [
    {
     "name": "stdout",
     "output_type": "stream",
     "text": [
      "_________________________________________________________________\n",
      "Layer (type)                 Output Shape              Param #   \n",
      "=================================================================\n",
      "input_2 (InputLayer)         (None, 28, 28)            0         \n",
      "_________________________________________________________________\n",
      "dense_2 (Dense)              (None, 28, 512)           14848     \n",
      "_________________________________________________________________\n",
      "dense_3 (Dense)              (None, 28, 10)            5130      \n",
      "=================================================================\n",
      "Total params: 19,978\n",
      "Trainable params: 19,978\n",
      "Non-trainable params: 0\n",
      "_________________________________________________________________\n"
     ]
    }
   ],
   "source": [
    "# Model definition\n",
    "from tensorflow.keras.models import Model\n",
    "from tensorflow.keras import optimizers\n",
    "model = Model(inputs=[input_layer], outputs=[output_layer])\n",
    "model.compile(optimizer=optimizers.Adam(lr=0.001), loss='categorical_crossentropy', metrics=['accuracy'])\n",
    "model.summary()"
   ]
  },
  {
   "cell_type": "code",
   "execution_count": 24,
   "metadata": {
    "colab": {
     "base_uri": "https://localhost:8080/",
     "height": 3528
    },
    "colab_type": "code",
    "executionInfo": {
     "elapsed": 96980,
     "status": "ok",
     "timestamp": 1560018871576,
     "user": {
      "displayName": "Sai Saurab",
      "photoUrl": "",
      "userId": "06528725485567637895"
     },
     "user_tz": -330
    },
    "id": "u-2Sfsxtn1B7",
    "outputId": "2512398e-9d93-4b16-ddf4-931b3095dac4",
    "scrolled": true,
    "slideshow": {
     "slide_type": "slide"
    }
   },
   "outputs": [
    {
     "name": "stdout",
     "output_type": "stream",
     "text": [
      "Train on 54000 samples, validate on 6000 samples\n",
      "Epoch 1/100\n",
      "54000/54000 [==============================] - 1s 19us/sample - loss: 0.0024 - acc: 1.0000 - val_loss: 0.0660 - val_acc: 0.9835\n",
      "Epoch 2/100\n",
      "54000/54000 [==============================] - 1s 20us/sample - loss: 0.0021 - acc: 0.9999 - val_loss: 0.0678 - val_acc: 0.9835\n",
      "Epoch 3/100\n",
      "54000/54000 [==============================] - 1s 18us/sample - loss: 0.0018 - acc: 1.0000 - val_loss: 0.0670 - val_acc: 0.9833\n",
      "Epoch 4/100\n",
      "54000/54000 [==============================] - 1s 18us/sample - loss: 0.0018 - acc: 0.9999 - val_loss: 0.0692 - val_acc: 0.9833\n",
      "Epoch 5/100\n",
      "54000/54000 [==============================] - 1s 18us/sample - loss: 0.0015 - acc: 1.0000 - val_loss: 0.0673 - val_acc: 0.9832\n",
      "Epoch 6/100\n",
      "54000/54000 [==============================] - 1s 18us/sample - loss: 0.0013 - acc: 1.0000 - val_loss: 0.0706 - val_acc: 0.9837\n",
      "Epoch 7/100\n",
      "54000/54000 [==============================] - 1s 18us/sample - loss: 0.0012 - acc: 1.0000 - val_loss: 0.0680 - val_acc: 0.9840\n",
      "Epoch 8/100\n",
      "54000/54000 [==============================] - 1s 18us/sample - loss: 9.9136e-04 - acc: 1.0000 - val_loss: 0.0695 - val_acc: 0.9845\n",
      "Epoch 9/100\n",
      "54000/54000 [==============================] - 1s 18us/sample - loss: 8.5947e-04 - acc: 1.0000 - val_loss: 0.0703 - val_acc: 0.9840\n",
      "Epoch 10/100\n",
      "54000/54000 [==============================] - 1s 18us/sample - loss: 7.3048e-04 - acc: 1.0000 - val_loss: 0.0697 - val_acc: 0.9842\n",
      "Epoch 11/100\n",
      "54000/54000 [==============================] - 1s 18us/sample - loss: 6.6419e-04 - acc: 1.0000 - val_loss: 0.0719 - val_acc: 0.9828\n",
      "Epoch 12/100\n",
      "54000/54000 [==============================] - 1s 18us/sample - loss: 5.6039e-04 - acc: 1.0000 - val_loss: 0.0706 - val_acc: 0.9835\n",
      "Epoch 13/100\n",
      "54000/54000 [==============================] - 1s 18us/sample - loss: 4.8400e-04 - acc: 1.0000 - val_loss: 0.0727 - val_acc: 0.9832\n",
      "Epoch 14/100\n",
      "54000/54000 [==============================] - 1s 18us/sample - loss: 4.3570e-04 - acc: 1.0000 - val_loss: 0.0739 - val_acc: 0.9838\n",
      "Epoch 15/100\n",
      "54000/54000 [==============================] - 1s 18us/sample - loss: 3.8797e-04 - acc: 1.0000 - val_loss: 0.0742 - val_acc: 0.9840\n",
      "Epoch 16/100\n",
      "54000/54000 [==============================] - 1s 18us/sample - loss: 3.4290e-04 - acc: 1.0000 - val_loss: 0.0745 - val_acc: 0.9840\n",
      "Epoch 17/100\n",
      "54000/54000 [==============================] - 1s 18us/sample - loss: 3.0248e-04 - acc: 1.0000 - val_loss: 0.0752 - val_acc: 0.9837\n",
      "Epoch 18/100\n",
      "54000/54000 [==============================] - 1s 18us/sample - loss: 2.6964e-04 - acc: 1.0000 - val_loss: 0.0760 - val_acc: 0.9838\n",
      "Epoch 19/100\n",
      "54000/54000 [==============================] - 1s 18us/sample - loss: 2.3139e-04 - acc: 1.0000 - val_loss: 0.0779 - val_acc: 0.9837\n",
      "Epoch 20/100\n",
      "54000/54000 [==============================] - 1s 18us/sample - loss: 2.0577e-04 - acc: 1.0000 - val_loss: 0.0784 - val_acc: 0.9832\n",
      "Epoch 21/100\n",
      "54000/54000 [==============================] - 1s 18us/sample - loss: 1.8839e-04 - acc: 1.0000 - val_loss: 0.0765 - val_acc: 0.9835\n",
      "Epoch 22/100\n",
      "54000/54000 [==============================] - 1s 18us/sample - loss: 1.5193e-04 - acc: 1.0000 - val_loss: 0.0777 - val_acc: 0.9830\n",
      "Epoch 23/100\n",
      "54000/54000 [==============================] - 1s 18us/sample - loss: 1.3517e-04 - acc: 1.0000 - val_loss: 0.0770 - val_acc: 0.9840\n",
      "Epoch 24/100\n",
      "54000/54000 [==============================] - 1s 18us/sample - loss: 1.2087e-04 - acc: 1.0000 - val_loss: 0.0783 - val_acc: 0.9843\n",
      "Epoch 25/100\n",
      "54000/54000 [==============================] - 1s 18us/sample - loss: 1.1753e-04 - acc: 1.0000 - val_loss: 0.0810 - val_acc: 0.9830\n",
      "Epoch 26/100\n",
      "54000/54000 [==============================] - 1s 18us/sample - loss: 9.0341e-05 - acc: 1.0000 - val_loss: 0.0793 - val_acc: 0.9838\n",
      "Epoch 27/100\n",
      "54000/54000 [==============================] - 1s 18us/sample - loss: 8.1797e-05 - acc: 1.0000 - val_loss: 0.0793 - val_acc: 0.9847\n",
      "Epoch 28/100\n",
      "54000/54000 [==============================] - 1s 17us/sample - loss: 7.2755e-05 - acc: 1.0000 - val_loss: 0.0821 - val_acc: 0.9840\n",
      "Epoch 29/100\n",
      "54000/54000 [==============================] - 1s 18us/sample - loss: 6.2023e-05 - acc: 1.0000 - val_loss: 0.0821 - val_acc: 0.9833\n",
      "Epoch 30/100\n",
      "54000/54000 [==============================] - 1s 18us/sample - loss: 5.7190e-05 - acc: 1.0000 - val_loss: 0.0831 - val_acc: 0.9840\n",
      "Epoch 31/100\n",
      "54000/54000 [==============================] - 1s 18us/sample - loss: 4.8286e-05 - acc: 1.0000 - val_loss: 0.0822 - val_acc: 0.9837\n",
      "Epoch 32/100\n",
      "54000/54000 [==============================] - 1s 18us/sample - loss: 4.1434e-05 - acc: 1.0000 - val_loss: 0.0832 - val_acc: 0.9845\n",
      "Epoch 33/100\n",
      "54000/54000 [==============================] - 1s 17us/sample - loss: 3.7843e-05 - acc: 1.0000 - val_loss: 0.0857 - val_acc: 0.9835\n",
      "Epoch 34/100\n",
      "54000/54000 [==============================] - 1s 17us/sample - loss: 3.2684e-05 - acc: 1.0000 - val_loss: 0.0836 - val_acc: 0.9840\n",
      "Epoch 35/100\n",
      "54000/54000 [==============================] - 1s 17us/sample - loss: 0.0018 - acc: 0.9994 - val_loss: 0.1139 - val_acc: 0.9778\n",
      "Epoch 36/100\n",
      "54000/54000 [==============================] - 1s 17us/sample - loss: 0.0025 - acc: 0.9992 - val_loss: 0.0896 - val_acc: 0.9837\n",
      "Epoch 37/100\n",
      "54000/54000 [==============================] - 1s 18us/sample - loss: 1.0378e-04 - acc: 1.0000 - val_loss: 0.0855 - val_acc: 0.9837\n",
      "Epoch 38/100\n",
      "54000/54000 [==============================] - 1s 18us/sample - loss: 6.4834e-05 - acc: 1.0000 - val_loss: 0.0857 - val_acc: 0.9838\n",
      "Epoch 39/100\n",
      "54000/54000 [==============================] - 1s 18us/sample - loss: 5.5512e-05 - acc: 1.0000 - val_loss: 0.0849 - val_acc: 0.9835\n",
      "Epoch 40/100\n",
      "54000/54000 [==============================] - 1s 18us/sample - loss: 4.9353e-05 - acc: 1.0000 - val_loss: 0.0852 - val_acc: 0.9833\n",
      "Epoch 41/100\n",
      "54000/54000 [==============================] - 1s 18us/sample - loss: 4.4626e-05 - acc: 1.0000 - val_loss: 0.0851 - val_acc: 0.9837\n",
      "Epoch 42/100\n",
      "54000/54000 [==============================] - 1s 18us/sample - loss: 4.0798e-05 - acc: 1.0000 - val_loss: 0.0854 - val_acc: 0.9835\n",
      "Epoch 43/100\n",
      "54000/54000 [==============================] - 1s 17us/sample - loss: 3.7503e-05 - acc: 1.0000 - val_loss: 0.0853 - val_acc: 0.9838\n",
      "Epoch 44/100\n",
      "54000/54000 [==============================] - 1s 17us/sample - loss: 3.4747e-05 - acc: 1.0000 - val_loss: 0.0855 - val_acc: 0.9837\n",
      "Epoch 45/100\n",
      "54000/54000 [==============================] - 1s 17us/sample - loss: 3.2391e-05 - acc: 1.0000 - val_loss: 0.0858 - val_acc: 0.9840\n",
      "Epoch 46/100\n",
      "54000/54000 [==============================] - 1s 18us/sample - loss: 3.0346e-05 - acc: 1.0000 - val_loss: 0.0853 - val_acc: 0.9840\n",
      "Epoch 47/100\n",
      "54000/54000 [==============================] - 1s 17us/sample - loss: 2.8411e-05 - acc: 1.0000 - val_loss: 0.0857 - val_acc: 0.9838\n",
      "Epoch 48/100\n",
      "54000/54000 [==============================] - 1s 18us/sample - loss: 2.6626e-05 - acc: 1.0000 - val_loss: 0.0855 - val_acc: 0.9837\n",
      "Epoch 49/100\n",
      "54000/54000 [==============================] - 1s 18us/sample - loss: 2.5193e-05 - acc: 1.0000 - val_loss: 0.0856 - val_acc: 0.9837\n",
      "Epoch 50/100\n",
      "54000/54000 [==============================] - 1s 18us/sample - loss: 2.3807e-05 - acc: 1.0000 - val_loss: 0.0860 - val_acc: 0.9835\n",
      "Epoch 51/100\n",
      "54000/54000 [==============================] - 1s 18us/sample - loss: 2.2359e-05 - acc: 1.0000 - val_loss: 0.0859 - val_acc: 0.9835\n",
      "Epoch 52/100\n",
      "54000/54000 [==============================] - 1s 17us/sample - loss: 2.1102e-05 - acc: 1.0000 - val_loss: 0.0860 - val_acc: 0.9840\n",
      "Epoch 53/100\n",
      "54000/54000 [==============================] - 1s 18us/sample - loss: 1.9957e-05 - acc: 1.0000 - val_loss: 0.0862 - val_acc: 0.9837\n",
      "Epoch 54/100\n",
      "54000/54000 [==============================] - 1s 18us/sample - loss: 1.8876e-05 - acc: 1.0000 - val_loss: 0.0863 - val_acc: 0.9835\n",
      "Epoch 55/100\n",
      "54000/54000 [==============================] - 1s 17us/sample - loss: 1.7815e-05 - acc: 1.0000 - val_loss: 0.0866 - val_acc: 0.9832\n",
      "Epoch 56/100\n",
      "54000/54000 [==============================] - 1s 18us/sample - loss: 1.6777e-05 - acc: 1.0000 - val_loss: 0.0867 - val_acc: 0.9833\n",
      "Epoch 57/100\n",
      "54000/54000 [==============================] - 1s 18us/sample - loss: 1.5903e-05 - acc: 1.0000 - val_loss: 0.0867 - val_acc: 0.9833\n",
      "Epoch 58/100\n",
      "54000/54000 [==============================] - 1s 17us/sample - loss: 1.4929e-05 - acc: 1.0000 - val_loss: 0.0876 - val_acc: 0.9833\n",
      "Epoch 59/100\n",
      "54000/54000 [==============================] - 1s 18us/sample - loss: 1.4094e-05 - acc: 1.0000 - val_loss: 0.0869 - val_acc: 0.9835\n",
      "Epoch 60/100\n",
      "54000/54000 [==============================] - 1s 18us/sample - loss: 1.3308e-05 - acc: 1.0000 - val_loss: 0.0873 - val_acc: 0.9835\n",
      "Epoch 61/100\n",
      "54000/54000 [==============================] - 1s 18us/sample - loss: 1.2458e-05 - acc: 1.0000 - val_loss: 0.0884 - val_acc: 0.9837\n",
      "Epoch 62/100\n",
      "54000/54000 [==============================] - 1s 18us/sample - loss: 1.1564e-05 - acc: 1.0000 - val_loss: 0.0878 - val_acc: 0.9835\n",
      "Epoch 63/100\n",
      "54000/54000 [==============================] - 1s 18us/sample - loss: 1.0853e-05 - acc: 1.0000 - val_loss: 0.0876 - val_acc: 0.9833\n",
      "Epoch 64/100\n",
      "54000/54000 [==============================] - 1s 18us/sample - loss: 1.0103e-05 - acc: 1.0000 - val_loss: 0.0883 - val_acc: 0.9833\n",
      "Epoch 65/100\n",
      "54000/54000 [==============================] - 1s 18us/sample - loss: 9.3239e-06 - acc: 1.0000 - val_loss: 0.0882 - val_acc: 0.9837\n",
      "Epoch 66/100\n",
      "54000/54000 [==============================] - 1s 18us/sample - loss: 8.7392e-06 - acc: 1.0000 - val_loss: 0.0896 - val_acc: 0.9835\n",
      "Epoch 67/100\n",
      "54000/54000 [==============================] - 1s 18us/sample - loss: 8.1720e-06 - acc: 1.0000 - val_loss: 0.0891 - val_acc: 0.9832\n",
      "Epoch 68/100\n",
      "54000/54000 [==============================] - 1s 18us/sample - loss: 7.6601e-06 - acc: 1.0000 - val_loss: 0.0892 - val_acc: 0.9835\n",
      "Epoch 69/100\n",
      "54000/54000 [==============================] - 1s 18us/sample - loss: 6.8700e-06 - acc: 1.0000 - val_loss: 0.0902 - val_acc: 0.9838\n",
      "Epoch 70/100\n",
      "54000/54000 [==============================] - 1s 18us/sample - loss: 6.2720e-06 - acc: 1.0000 - val_loss: 0.0904 - val_acc: 0.9837\n",
      "Epoch 71/100\n",
      "54000/54000 [==============================] - 1s 18us/sample - loss: 5.8276e-06 - acc: 1.0000 - val_loss: 0.0899 - val_acc: 0.9840\n",
      "Epoch 72/100\n",
      "54000/54000 [==============================] - 1s 18us/sample - loss: 5.2233e-06 - acc: 1.0000 - val_loss: 0.0916 - val_acc: 0.9835\n",
      "Epoch 73/100\n",
      "54000/54000 [==============================] - 1s 18us/sample - loss: 4.7941e-06 - acc: 1.0000 - val_loss: 0.0907 - val_acc: 0.9838\n",
      "Epoch 74/100\n",
      "54000/54000 [==============================] - 1s 17us/sample - loss: 4.4167e-06 - acc: 1.0000 - val_loss: 0.0923 - val_acc: 0.9832\n",
      "Epoch 75/100\n",
      "54000/54000 [==============================] - 1s 18us/sample - loss: 4.0072e-06 - acc: 1.0000 - val_loss: 0.0918 - val_acc: 0.9840\n",
      "Epoch 76/100\n",
      "54000/54000 [==============================] - 1s 18us/sample - loss: 3.6426e-06 - acc: 1.0000 - val_loss: 0.0925 - val_acc: 0.9835\n",
      "Epoch 77/100\n",
      "54000/54000 [==============================] - 1s 18us/sample - loss: 3.3244e-06 - acc: 1.0000 - val_loss: 0.0941 - val_acc: 0.9842\n",
      "Epoch 78/100\n",
      "54000/54000 [==============================] - 1s 18us/sample - loss: 3.0401e-06 - acc: 1.0000 - val_loss: 0.0936 - val_acc: 0.9833\n",
      "Epoch 79/100\n",
      "54000/54000 [==============================] - 1s 18us/sample - loss: 2.7637e-06 - acc: 1.0000 - val_loss: 0.0935 - val_acc: 0.9837\n",
      "Epoch 80/100\n",
      "54000/54000 [==============================] - 1s 18us/sample - loss: 2.4681e-06 - acc: 1.0000 - val_loss: 0.0934 - val_acc: 0.9842\n",
      "Epoch 81/100\n",
      "54000/54000 [==============================] - 1s 18us/sample - loss: 2.2904e-06 - acc: 1.0000 - val_loss: 0.0953 - val_acc: 0.9838\n",
      "Epoch 82/100\n",
      "54000/54000 [==============================] - 1s 18us/sample - loss: 2.0802e-06 - acc: 1.0000 - val_loss: 0.0961 - val_acc: 0.9838\n",
      "Epoch 83/100\n",
      "54000/54000 [==============================] - 1s 18us/sample - loss: 1.8774e-06 - acc: 1.0000 - val_loss: 0.0961 - val_acc: 0.9833\n",
      "Epoch 84/100\n",
      "54000/54000 [==============================] - 1s 18us/sample - loss: 1.7134e-06 - acc: 1.0000 - val_loss: 0.0965 - val_acc: 0.9835\n",
      "Epoch 85/100\n",
      "54000/54000 [==============================] - 1s 18us/sample - loss: 1.5473e-06 - acc: 1.0000 - val_loss: 0.0969 - val_acc: 0.9837\n",
      "Epoch 86/100\n",
      "54000/54000 [==============================] - 1s 18us/sample - loss: 1.4083e-06 - acc: 1.0000 - val_loss: 0.0959 - val_acc: 0.9838\n",
      "Epoch 87/100\n",
      "54000/54000 [==============================] - 1s 18us/sample - loss: 1.2780e-06 - acc: 1.0000 - val_loss: 0.0965 - val_acc: 0.9842\n",
      "Epoch 88/100\n",
      "54000/54000 [==============================] - 1s 18us/sample - loss: 1.1717e-06 - acc: 1.0000 - val_loss: 0.0976 - val_acc: 0.9835\n",
      "Epoch 89/100\n",
      "54000/54000 [==============================] - 1s 18us/sample - loss: 1.0925e-06 - acc: 1.0000 - val_loss: 0.0971 - val_acc: 0.9838\n",
      "Epoch 90/100\n",
      "54000/54000 [==============================] - 1s 18us/sample - loss: 9.9345e-07 - acc: 1.0000 - val_loss: 0.0983 - val_acc: 0.9840\n",
      "Epoch 91/100\n",
      "54000/54000 [==============================] - 1s 17us/sample - loss: 9.2691e-07 - acc: 1.0000 - val_loss: 0.0988 - val_acc: 0.9840\n",
      "Epoch 92/100\n",
      "54000/54000 [==============================] - 1s 17us/sample - loss: 8.4870e-07 - acc: 1.0000 - val_loss: 0.0978 - val_acc: 0.9840\n",
      "Epoch 93/100\n",
      "54000/54000 [==============================] - 1s 18us/sample - loss: 7.9758e-07 - acc: 1.0000 - val_loss: 0.0993 - val_acc: 0.9830\n",
      "Epoch 94/100\n",
      "54000/54000 [==============================] - 1s 18us/sample - loss: 7.3275e-07 - acc: 1.0000 - val_loss: 0.0997 - val_acc: 0.9837\n",
      "Epoch 95/100\n",
      "54000/54000 [==============================] - 1s 18us/sample - loss: 6.8386e-07 - acc: 1.0000 - val_loss: 0.1000 - val_acc: 0.9835\n",
      "Epoch 96/100\n",
      "54000/54000 [==============================] - 1s 18us/sample - loss: 6.3560e-07 - acc: 1.0000 - val_loss: 0.1002 - val_acc: 0.9842\n",
      "Epoch 97/100\n",
      "54000/54000 [==============================] - 1s 18us/sample - loss: 5.9503e-07 - acc: 1.0000 - val_loss: 0.1005 - val_acc: 0.9842\n",
      "Epoch 98/100\n",
      "54000/54000 [==============================] - 1s 18us/sample - loss: 5.5844e-07 - acc: 1.0000 - val_loss: 0.1008 - val_acc: 0.9840\n",
      "Epoch 99/100\n",
      "54000/54000 [==============================] - 1s 18us/sample - loss: 5.2558e-07 - acc: 1.0000 - val_loss: 0.1010 - val_acc: 0.9843\n",
      "Epoch 100/100\n",
      "54000/54000 [==============================] - 1s 18us/sample - loss: 4.9541e-07 - acc: 1.0000 - val_loss: 0.1018 - val_acc: 0.9838\n"
     ]
    }
   ],
   "source": [
    "history = model.fit(train_samples.reshape(60,000,28,28), train_labels, validation_split = 0.1, epochs=100, batch_size=200)\n",
    "# Use 10% of samples for validation, validation_split is the relevant parameter\n"
   ]
  },
  {
   "cell_type": "code",
   "execution_count": 0,
   "metadata": {
    "colab": {},
    "colab_type": "code",
    "id": "B12vN44Ln1CF",
    "outputId": "d4ca7fa2-b248-4fc4-9083-74d46807165e",
    "slideshow": {
     "slide_type": "slide"
    }
   },
   "outputs": [
    {
     "name": "stdout",
     "output_type": "stream",
     "text": [
      "Accuracy :0.940\n",
      "[[ 968    0    2    2    0    3    2    2    1    0]\n",
      " [   0 1112    3    2    1    1    4    2   10    0]\n",
      " [   9    1  966   12    8    0    7    8   19    2]\n",
      " [   2    1   17  943    0    9    1   11   17    9]\n",
      " [   2    2   10    0  918    0    6    5    5   34]\n",
      " [   9    2    4   34    5  793    8    5   25    7]\n",
      " [  14    3   12    1    6   13  903    3    3    0]\n",
      " [   1    7   22    6    3    1    0  962    2   24]\n",
      " [   6    4    7   16    8   11    9    8  901    4]\n",
      " [  11    6    1   12   18    4    0   13    6  938]]\n"
     ]
    }
   ],
   "source": [
    "from sklearn.metrics import confusion_matrix\n",
    "loss, accuracy = model.evaluate(test_samples, test_labels,verbose=0)  # Evaluate the model\n",
    "print('Accuracy :%0.3f'%accuracy)\n",
    "\n",
    "pred_labels = model.predict(test_samples)\n",
    "cm = confusion_matrix(test_labels.argmax(axis=1), pred_labels.argmax(axis=1))\n",
    "print(cm )\n",
    "\n"
   ]
  },
  {
   "cell_type": "code",
   "execution_count": 25,
   "metadata": {
    "colab": {
     "base_uri": "https://localhost:8080/",
     "height": 269
    },
    "colab_type": "code",
    "executionInfo": {
     "elapsed": 1232,
     "status": "ok",
     "timestamp": 1560018876908,
     "user": {
      "displayName": "Sai Saurab",
      "photoUrl": "",
      "userId": "06528725485567637895"
     },
     "user_tz": -330
    },
    "id": "sdXS58IwWOXP",
    "outputId": "7c094e4d-3e5b-4692-ca45-de7f93d4fdd4"
   },
   "outputs": [
    {
     "data": {
      "image/png": "[encoded data removed]",
      "text/plain": [
       "<Figure size 432x288 with 1 Axes>"
      ]
     },
     "metadata": {
      "tags": []
     },
     "output_type": "display_data"
    }
   ],
   "source": [
    "history.history.keys()\n",
    "import matplotlib.pyplot as plt\n",
    "plt.plot(range(len(history.history['val_acc'])), history.history['val_acc'])\n",
    "plt.show()"
   ]
  },
  {
   "cell_type": "code",
   "execution_count": 0,
   "metadata": {
    "colab": {},
    "colab_type": "code",
    "id": "DySmpDX7n1CY"
   },
   "outputs": [],
   "source": []
  }
 ],
 "metadata": {
  "accelerator": "GPU",
  "colab": {
   "collapsed_sections": [],
   "name": "mnist_mln_network.ipynb",
   "provenance": [],
   "version": "0.3.2"
  },
  "kernelspec": {
   "display_name": "Python 3",
   "language": "python",
   "name": "python3"
  },
  "language_info": {
   "codemirror_mode": {
    "name": "ipython",
    "version": 3
   },
   "file_extension": ".py",
   "mimetype": "text/x-python",
   "name": "python",
   "nbconvert_exporter": "python",
   "pygments_lexer": "ipython3",
   "version": "3.7.0"
  }
 },
 "nbformat": 4,
 "nbformat_minor": 1
}
